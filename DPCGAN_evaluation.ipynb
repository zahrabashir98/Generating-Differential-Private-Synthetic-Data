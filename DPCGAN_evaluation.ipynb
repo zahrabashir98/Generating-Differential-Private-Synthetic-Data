{
  "nbformat": 4,
  "nbformat_minor": 0,
  "metadata": {
    "colab": {
      "name": "DPCGAN_evaluation.ipynb",
      "provenance": [],
      "collapsed_sections": []
    },
    "kernelspec": {
      "name": "python3",
      "display_name": "Python 3"
    },
    "language_info": {
      "name": "python"
    }
  },
  "cells": [
    {
      "cell_type": "markdown",
      "metadata": {
        "id": "Y4oEaxTDPDq5"
      },
      "source": [
        "## results:\n",
        "Loss: 0.6226252913475037 \n",
        "Acc:0.7956989407539368 \n",
        "F1 score: 0.8069892525672913\n",
        "Precision: 0.6920763850212097\n",
        "Recall: 0.9816280007362366"
      ]
    },
    {
      "cell_type": "code",
      "metadata": {
        "colab": {
          "base_uri": "https://localhost:8080/"
        },
        "id": "YbmDe34jCLKJ",
        "outputId": "a451ec1b-1f4e-47e2-ad31-9b70f274a61a"
      },
      "source": [
        "from google.colab import drive\n",
        "drive.mount('/content/drive')"
      ],
      "execution_count": null,
      "outputs": [
        {
          "output_type": "stream",
          "text": [
            "Drive already mounted at /content/drive; to attempt to forcibly remount, call drive.mount(\"/content/drive\", force_remount=True).\n"
          ],
          "name": "stdout"
        }
      ]
    },
    {
      "cell_type": "code",
      "metadata": {
        "colab": {
          "base_uri": "https://localhost:8080/"
        },
        "id": "Jp-wpe-ACQ4d",
        "outputId": "4f41c9bd-a2ab-464c-93ea-b0386a080817"
      },
      "source": [
        "# load the dataset\n",
        "from pandas import read_csv\n",
        "from scipy.special import expit\n",
        "from sklearn.utils import shuffle\n",
        "import pickle\n",
        "def load_dataset_train(full_path = '/content/drive/MyDrive/Privacy/real_data_train.csv'):\n",
        "  # load the dataset as a numpy array\n",
        "  with open(full_path, 'rb') as f:\n",
        "    data = pickle.load(f)\n",
        "  # retrieve numpy array\n",
        "  data = data.values\n",
        "  # split into input and output elements\n",
        "  X, y = data[:, :-1], data[:, -1]\n",
        "  return X, y\n",
        "\n",
        "X_train, y_train = load_dataset_train()\n",
        "X_train = expit(X_train)\n",
        "print(X_train.shape, y_train.shape)\n",
        "print(X_train[0])\n",
        "\n",
        "\n",
        "def load_dataset_test(full_path = '/content/drive/MyDrive/Privacy/real_data_test.csv'):\n",
        "  # load the dataset as a numpy array\n",
        "  with open(full_path, 'rb') as f:\n",
        "    data = pickle.load(f)\n",
        "  # retrieve numpy array\n",
        "  data = data.values\n",
        "  # split into input and output elements\n",
        "  X, y = data[:, :-1], data[:, -1]\n",
        "  return X, y\n",
        "\n",
        "X_test, y_test = load_dataset_test()\n",
        "X_test = expit(X_test)\n",
        "print(X_test.shape)"
      ],
      "execution_count": null,
      "outputs": [
        {
          "output_type": "stream",
          "text": [
            "(1000, 4) (1000,)\n",
            "[0.99411941 0.99982842 0.05258531 0.18114637]\n",
            "(372, 4)\n"
          ],
          "name": "stdout"
        }
      ]
    },
    {
      "cell_type": "code",
      "metadata": {
        "colab": {
          "base_uri": "https://localhost:8080/"
        },
        "id": "dfRwJgHTCTCb",
        "outputId": "0905940c-e544-471d-c9b0-6334edd108dd"
      },
      "source": [
        "from pandas import read_csv\n",
        "dataframe = read_csv(\"/content/drive/MyDrive/Privacy/DPCGAN_data_new_1000.csv\", header=None)\n",
        "data = dataframe.values[:,1:]\n",
        "print(data[2])\n",
        "\n",
        "dataframe = read_csv('/content/drive/MyDrive/Privacy/DPCGAN_labels_new_1000.csv', header=None)\n",
        "labels = dataframe.values[:,1]\n",
        "print(labels.shape)\n",
        "\n",
        "X_DPCGAN = data\n",
        "Y_DPCGAN = labels\n",
        "\n",
        "print(X_DPCGAN.shape)\n",
        "print(Y_DPCGAN.shape)"
      ],
      "execution_count": null,
      "outputs": [
        {
          "output_type": "stream",
          "text": [
            "[0.4099354  0.75167114 0.8109339  0.1232217 ]\n",
            "(1001,)\n",
            "(1001, 4)\n",
            "(1001,)\n"
          ],
          "name": "stdout"
        }
      ]
    },
    {
      "cell_type": "code",
      "metadata": {
        "id": "8mH3cDa0CU_2"
      },
      "source": [
        "from keras.models import Sequential\n",
        "from keras.layers import Dense\n",
        "from keras.layers import Dropout\n",
        "from keras import backend as K\n",
        "from sklearn.metrics import roc_auc_score\n",
        "from sklearn.metrics import precision_recall_curve\n",
        "import tensorflow as tf\n",
        "\n",
        "\n",
        "def recall_m(y_true, y_pred):\n",
        "    true_positives = K.sum(K.round(K.clip(y_true * y_pred, 0, 1)))\n",
        "    possible_positives = K.sum(K.round(K.clip(y_true, 0, 1)))\n",
        "    recall = true_positives / (possible_positives + K.epsilon())\n",
        "    return recall\n",
        "\n",
        "def precision_m(y_true, y_pred):\n",
        "    true_positives = K.sum(K.round(K.clip(y_true * y_pred, 0, 1)))\n",
        "    predicted_positives = K.sum(K.round(K.clip(y_pred, 0, 1)))\n",
        "    precision = true_positives / (predicted_positives + K.epsilon())\n",
        "    return precision\n",
        "\n",
        "def f1_m(y_true, y_pred):\n",
        "    precision = precision_m(y_true, y_pred)\n",
        "    recall = recall_m(y_true, y_pred)\n",
        "    return 2*((precision*recall)/(precision+recall+K.epsilon()))\n",
        "\n",
        "\n",
        "model = Sequential([\n",
        "Dense(input_dim = 4, units = 2, activation = 'relu'),\n",
        "# Dense(units = 32, activation = 'relu'),\n",
        "# Dropout(0.2),\n",
        "Dense(units = 10, activation = 'relu'),\n",
        "Dense(units = 4, activation = 'relu'),\n",
        "Dense(units =1, activation = 'sigmoid'),])\n"
      ],
      "execution_count": null,
      "outputs": []
    },
    {
      "cell_type": "code",
      "metadata": {
        "colab": {
          "base_uri": "https://localhost:8080/"
        },
        "id": "4COQ2oH8oOrE",
        "outputId": "058ee7d2-6533-40a9-d408-7cd577a665ee"
      },
      "source": [
        "model.compile(optimizer = 'adam', loss = 'binary_crossentropy', metrics = ['accuracy', f1_m, precision_m, recall_m])\n",
        "model.fit(X_DPCGAN, Y_DPCGAN, batch_size = 15, epochs = 15)\n",
        "# evaluate the model\n",
        "loss, accuracy, f1_score, precision, recall = model.evaluate(X_test, y_test, verbose=0)\n",
        "print(loss, accuracy, f1_score, precision, recall)"
      ],
      "execution_count": null,
      "outputs": [
        {
          "output_type": "stream",
          "text": [
            "Epoch 1/15\n",
            "67/67 [==============================] - 1s 1ms/step - loss: 0.6955 - accuracy: 0.4547 - f1_m: 0.6067 - precision_m: 0.4716 - recall_m: 0.8972\n",
            "Epoch 2/15\n",
            "67/67 [==============================] - 0s 1ms/step - loss: 0.6931 - accuracy: 0.4889 - f1_m: 0.2752 - precision_m: 0.3692 - recall_m: 0.2930\n",
            "Epoch 3/15\n",
            "67/67 [==============================] - 0s 1ms/step - loss: 0.6927 - accuracy: 0.5329 - f1_m: 0.1183 - precision_m: 0.3591 - recall_m: 0.0739\n",
            "Epoch 4/15\n",
            "67/67 [==============================] - 0s 2ms/step - loss: 0.6906 - accuracy: 0.5803 - f1_m: 0.3246 - precision_m: 0.7119 - recall_m: 0.2730\n",
            "Epoch 5/15\n",
            "67/67 [==============================] - 0s 1ms/step - loss: 0.6868 - accuracy: 0.5346 - f1_m: 0.4960 - precision_m: 0.5636 - recall_m: 0.5559\n",
            "Epoch 6/15\n",
            "67/67 [==============================] - 0s 1ms/step - loss: 0.6844 - accuracy: 0.5357 - f1_m: 0.5539 - precision_m: 0.5584 - recall_m: 0.6451\n",
            "Epoch 7/15\n",
            "67/67 [==============================] - 0s 2ms/step - loss: 0.6811 - accuracy: 0.5541 - f1_m: 0.4761 - precision_m: 0.5630 - recall_m: 0.4477\n",
            "Epoch 8/15\n",
            "67/67 [==============================] - 0s 1ms/step - loss: 0.6805 - accuracy: 0.5752 - f1_m: 0.4546 - precision_m: 0.5790 - recall_m: 0.3961\n",
            "Epoch 9/15\n",
            "67/67 [==============================] - 0s 1ms/step - loss: 0.6644 - accuracy: 0.5981 - f1_m: 0.5830 - precision_m: 0.6064 - recall_m: 0.6223\n",
            "Epoch 10/15\n",
            "67/67 [==============================] - 0s 1ms/step - loss: 0.6626 - accuracy: 0.6158 - f1_m: 0.5908 - precision_m: 0.6425 - recall_m: 0.5776\n",
            "Epoch 11/15\n",
            "67/67 [==============================] - 0s 2ms/step - loss: 0.6620 - accuracy: 0.6332 - f1_m: 0.5448 - precision_m: 0.6554 - recall_m: 0.5108\n",
            "Epoch 12/15\n",
            "67/67 [==============================] - 0s 1ms/step - loss: 0.6520 - accuracy: 0.7007 - f1_m: 0.6941 - precision_m: 0.7181 - recall_m: 0.6936\n",
            "Epoch 13/15\n",
            "67/67 [==============================] - 0s 1ms/step - loss: 0.6405 - accuracy: 0.7086 - f1_m: 0.6893 - precision_m: 0.7647 - recall_m: 0.6588\n",
            "Epoch 14/15\n",
            "67/67 [==============================] - 0s 1ms/step - loss: 0.6364 - accuracy: 0.7254 - f1_m: 0.6527 - precision_m: 0.7420 - recall_m: 0.6123\n",
            "Epoch 15/15\n",
            "67/67 [==============================] - 0s 1ms/step - loss: 0.6335 - accuracy: 0.7552 - f1_m: 0.7075 - precision_m: 0.7403 - recall_m: 0.7052\n",
            "0.6226252913475037 0.7956989407539368 0.8069892525672913 0.6920763850212097 0.9816280007362366\n"
          ],
          "name": "stdout"
        }
      ]
    }
  ]
}