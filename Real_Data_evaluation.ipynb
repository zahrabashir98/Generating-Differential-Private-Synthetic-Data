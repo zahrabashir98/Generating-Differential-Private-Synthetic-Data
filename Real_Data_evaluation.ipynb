{
  "nbformat": 4,
  "nbformat_minor": 0,
  "metadata": {
    "colab": {
      "name": "Real Data_evaluation.ipynb",
      "provenance": [],
      "collapsed_sections": [
        "_ypk5MqqbS19",
        "RdXqETM5zU5X",
        "gNtdHJsTG41x",
        "XKsi-SzMRpc_",
        "NVr7vCqfRrJr"
      ]
    },
    "kernelspec": {
      "name": "python3",
      "display_name": "Python 3"
    },
    "language_info": {
      "name": "python"
    }
  },
  "cells": [
    {
      "cell_type": "code",
      "metadata": {
        "id": "JCoOk71hwU6T",
        "colab": {
          "base_uri": "https://localhost:8080/"
        },
        "outputId": "04e52ee3-2806-4815-c828-07a7eb97da9f"
      },
      "source": [
        "from google.colab import drive\n",
        "drive.mount('/content/drive')"
      ],
      "execution_count": null,
      "outputs": [
        {
          "output_type": "stream",
          "text": [
            "Drive already mounted at /content/drive; to attempt to forcibly remount, call drive.mount(\"/content/drive\", force_remount=True).\n"
          ],
          "name": "stdout"
        }
      ]
    },
    {
      "cell_type": "markdown",
      "metadata": {
        "id": "_ypk5MqqbS19"
      },
      "source": [
        "# Load and Truncate Real Data "
      ]
    },
    {
      "cell_type": "code",
      "metadata": {
        "id": "KqV_QP05Qq-R"
      },
      "source": [
        "from pandas import read_csv\n",
        "import numpy as np\n",
        "from scipy.special import expit\n",
        "\n",
        "dataframe = read_csv('/content/drive/MyDrive/Privacy/creditcard.csv', header=None)\n",
        "dataframe.head()\n",
        "\n",
        "target_variable = 30\n",
        "X_train = dataframe.drop([target_variable], axis=1).values\n",
        "Y_train = dataframe[target_variable].values\n"
      ],
      "execution_count": null,
      "outputs": []
    },
    {
      "cell_type": "code",
      "metadata": {
        "colab": {
          "base_uri": "https://localhost:8080/"
        },
        "id": "ozhQ4FQV64zw",
        "outputId": "bdedcab4-2ece-4f87-e246-6a70f85bf0b9"
      },
      "source": [
        "import pandas as pd\n",
        "from pandas import read_csv\n",
        "import numpy as np\n",
        "dataframe = read_csv('/content/drive/MyDrive/Privacy/creditcard.csv', header=None)\n",
        "dataframe.head()\n",
        "target_variable = 30\n",
        "\n",
        "index_p = np.where(Y_train==1)\n",
        "index_n = np.where(Y_train==0)\n",
        "# print(index_p[0].shape)\n",
        "\n",
        "positive_data_real = dataframe.loc[index_p[0] , : ][:480]\n",
        "# print(positive_data_real.shape)\n",
        "\n",
        "negative_data_real = dataframe.loc[index_n[0] , : ]\n",
        "negative_data_real = negative_data_real[:1500]\n",
        "# print(negative_data_real.shape)\n",
        "\n",
        "real_data = pd.concat([positive_data_real, negative_data_real])\n",
        "x_real = real_data.drop([target_variable], axis=1).values\n",
        "y_real = real_data[target_variable].values\n",
        "\n",
        "print(x_real.shape)\n",
        "print(y_real.shape)\n",
        "\n",
        "from sklearn.model_selection import train_test_split\n",
        "X_train, X_test, y_train, y_test = train_test_split(x_real, y_real, test_size = 0.4, random_state = 42)\n",
        "print(X_train.shape)\n",
        "print(X_test.shape)\n",
        "# print(X_train[0])\n",
        "# print(expit(X_train)[0])"
      ],
      "execution_count": null,
      "outputs": [
        {
          "output_type": "stream",
          "text": [
            "(1980, 30)\n",
            "(1980,)\n",
            "(1188, 30)\n",
            "(792, 30)\n"
          ],
          "name": "stdout"
        }
      ]
    },
    {
      "cell_type": "markdown",
      "metadata": {
        "id": "RdXqETM5zU5X"
      },
      "source": [
        "# load New data (X_train,y_train) (X_test,y_test)"
      ]
    },
    {
      "cell_type": "code",
      "metadata": {
        "colab": {
          "base_uri": "https://localhost:8080/"
        },
        "id": "vBm2jgGwX_V4",
        "outputId": "40636e4a-a0a3-4e6e-cf82-fb8f6896ed59"
      },
      "source": [
        "# load the dataset\n",
        "from pandas import read_csv\n",
        "from scipy.special import expit\n",
        "from sklearn.utils import shuffle\n",
        "import pickle\n",
        "def load_dataset_train(full_path = '/content/drive/MyDrive/Privacy/real_data_train.csv'):\n",
        "  # load the dataset as a numpy array\n",
        "  with open(full_path, 'rb') as f:\n",
        "    data = pickle.load(f)\n",
        "  # retrieve numpy array\n",
        "  data = data.values\n",
        "  # split into input and output elements\n",
        "  X, y = data[:, :-1], data[:, -1]\n",
        "  return X, y\n",
        "\n",
        "X_train, y_train = load_dataset_train()\n",
        "X_train = expit(X_train)\n",
        "print(X_train.shape, y_train.shape)\n",
        "print(X_train[0])\n",
        "\n",
        "\n",
        "def load_dataset_test(full_path = '/content/drive/MyDrive/Privacy/real_data_test.csv'):\n",
        "  # load the dataset as a numpy array\n",
        "  with open(full_path, 'rb') as f:\n",
        "    data = pickle.load(f)\n",
        "  # retrieve numpy array\n",
        "  data = data.values\n",
        "  # split into input and output elements\n",
        "  X, y = data[:, :-1], data[:, -1]\n",
        "  return X, y\n",
        "\n",
        "X_test, y_test = load_dataset_test()\n",
        "X_test = expit(X_test)\n",
        "print(X_test.shape)"
      ],
      "execution_count": null,
      "outputs": [
        {
          "output_type": "stream",
          "text": [
            "(1000, 4) (1000,)\n",
            "[0.99411941 0.99982842 0.05258531 0.18114637]\n",
            "(372, 4)\n"
          ],
          "name": "stdout"
        }
      ]
    },
    {
      "cell_type": "markdown",
      "metadata": {
        "id": "gNtdHJsTG41x"
      },
      "source": [
        "# do not run :)\n",
        "test and train split for all the models"
      ]
    },
    {
      "cell_type": "code",
      "metadata": {
        "colab": {
          "base_uri": "https://localhost:8080/"
        },
        "id": "JLS9J77NEG3I",
        "outputId": "364e843c-f847-4a76-b813-75925276a165"
      },
      "source": [
        "# run once\n",
        "# load the dataset\n",
        "from pandas import read_csv\n",
        "from scipy.special import expit\n",
        "from sklearn.model_selection import train_test_split\n",
        "from sklearn.utils import shuffle\n",
        "import numpy as np\n",
        "import pickle\n",
        "\n",
        "def load_dataset(full_path = '/content/drive/MyDrive/Privacy/new_data.txt'):\n",
        "\t# load the dataset as a numpy array\n",
        "\tdata = read_csv(full_path, header=None)\n",
        "\t# retrieve numpy array\n",
        "\t# split into input and output elements\n",
        "\treturn data\n",
        "\n",
        "data = load_dataset()\n",
        "data = shuffle(data)\n",
        "train = data[:1000]\n",
        "test = data[1000:]\n",
        "print(train.shape,test.shape)\n",
        "yek = (np.where(train[4]==1))\n",
        "output = open(\"/content/drive/MyDrive/Privacy/real_data_train.csv\", 'wb')\n",
        "pickle.dump(train, output)\n",
        "output = open(\"/content/drive/MyDrive/Privacy/real_data_test.csv\", 'wb')\n",
        "pickle.dump(test, output)\n",
        "output.close()\n",
        "print(yek[0].shape)"
      ],
      "execution_count": null,
      "outputs": [
        {
          "output_type": "stream",
          "text": [
            "(1000, 5) (372, 5)\n",
            "(439,)\n"
          ],
          "name": "stdout"
        }
      ]
    },
    {
      "cell_type": "markdown",
      "metadata": {
        "id": "y_nKmK4SbYVa"
      },
      "source": [
        "# Load Synthetic Data"
      ]
    },
    {
      "cell_type": "markdown",
      "metadata": {
        "id": "jN9E1p91T7nc"
      },
      "source": [
        "## Load Synthetic data from DPGAN model"
      ]
    },
    {
      "cell_type": "markdown",
      "metadata": {
        "id": "XKsi-SzMRpc_"
      },
      "source": [
        "## negative data"
      ]
    },
    {
      "cell_type": "code",
      "metadata": {
        "id": "iMQ59NJRyZTF",
        "colab": {
          "base_uri": "https://localhost:8080/"
        },
        "outputId": "a39d69e1-838e-4e00-88f4-e19e07bf1f7c"
      },
      "source": [
        "from pandas import read_csv\n",
        "import numpy as np\n",
        "dataframe = read_csv('/content/drive/MyDrive/Privacy/DPGAN_neg_NEWdata.csv', header=None)\n",
        "data = dataframe.values\n",
        "# split into input and output elements\n",
        "x_test_neg = data[:,1:]\n",
        "print(x_test_neg[3])\n",
        "y_test_neg = np.zeros(x_test_neg.shape[0])\n",
        "print(y_test_neg.shape)"
      ],
      "execution_count": null,
      "outputs": [
        {
          "output_type": "stream",
          "text": [
            "[0.8417605  0.67365986 0.8866259  0.50857836]\n",
            "(501,)\n"
          ],
          "name": "stdout"
        }
      ]
    },
    {
      "cell_type": "markdown",
      "metadata": {
        "id": "NVr7vCqfRrJr"
      },
      "source": [
        "## positive *data*"
      ]
    },
    {
      "cell_type": "code",
      "metadata": {
        "colab": {
          "base_uri": "https://localhost:8080/"
        },
        "id": "1Wf_VfF2Rs6m",
        "outputId": "3159b706-b16a-402f-9a50-597e46ec23f4"
      },
      "source": [
        "from pandas import read_csv\n",
        "dataframe2 = read_csv(\"/content/drive/MyDrive/Privacy/DPGAN_pos_NEWdata.csv\", header=None)\n",
        "data2 = dataframe2.values\n",
        "# print(data2.shape)\n",
        "x_test_pos = data2[:,1:]\n",
        "print(x_test_pos[10])\n",
        "y_test_pos = np.ones(x_test_pos.shape[0])\n",
        "print(y_test_pos.shape)"
      ],
      "execution_count": null,
      "outputs": [
        {
          "output_type": "stream",
          "text": [
            "[-0.2195718   0.77580434  0.46309352  0.4026301 ]\n",
            "(501,)\n"
          ],
          "name": "stdout"
        }
      ]
    },
    {
      "cell_type": "code",
      "metadata": {
        "colab": {
          "base_uri": "https://localhost:8080/"
        },
        "id": "CwBzgYaBSdrH",
        "outputId": "1ee6fd5c-f9ea-47e8-a417-859ca82453fb"
      },
      "source": [
        "# DPGAN train data\n",
        "from sklearn.model_selection import train_test_split\n",
        "x_s_dpgan = np.concatenate((x_test_neg[:,:], x_test_pos))\n",
        "y_s_dpgan = np.concatenate((y_test_neg[:], y_test_pos))\n",
        "# X_train_dpgan, _, Y_train_dpgan, _ = train_test_split(x_s_dpgan, y_s_dpgan, test_size = 0.001, random_state = 0)\n",
        "X_train_dpgan , Y_train_dpgan = shuffle(x_s_dpgan,y_s_dpgan)\n",
        "print(X_train_dpgan.shape)\n",
        "print(Y_train_dpgan.shape)"
      ],
      "execution_count": null,
      "outputs": [
        {
          "output_type": "stream",
          "text": [
            "(1002, 4)\n",
            "(1002,)\n"
          ],
          "name": "stdout"
        }
      ]
    },
    {
      "cell_type": "markdown",
      "metadata": {
        "id": "8YGGZMuDGJqW"
      },
      "source": [
        "# Load Synthetic data from DPCGAN model"
      ]
    },
    {
      "cell_type": "code",
      "metadata": {
        "colab": {
          "base_uri": "https://localhost:8080/"
        },
        "id": "GPxUjreQGJSk",
        "outputId": "9750eab0-49ab-4088-e0f1-9997f42de2ad"
      },
      "source": [
        "from pandas import read_csv\n",
        "dataframe = read_csv(\"/content/drive/MyDrive/Privacy/DPCGAN_data_new_1000.csv\", header=None)\n",
        "data = dataframe.values[:,1:]\n",
        "print(data[2])\n",
        "\n",
        "dataframe = read_csv('/content/drive/MyDrive/Privacy/DPCGAN_labels_new_1000.csv', header=None)\n",
        "labels = dataframe.values[:,1]\n",
        "print(labels.shape)\n",
        "\n",
        "X_DPCGAN = data\n",
        "Y_DPCGAN = labels\n",
        "\n",
        "print(X_DPCGAN.shape)\n",
        "print(Y_DPCGAN.shape)"
      ],
      "execution_count": null,
      "outputs": [
        {
          "output_type": "stream",
          "text": [
            "[0.4099354  0.75167114 0.8109339  0.1232217 ]\n",
            "(1001,)\n",
            "(1001, 4)\n",
            "(1001,)\n"
          ],
          "name": "stdout"
        }
      ]
    },
    {
      "cell_type": "markdown",
      "metadata": {
        "id": "41U5jIL8ybFe"
      },
      "source": [
        "## Load Synthetic data from PATE_GAN model"
      ]
    },
    {
      "cell_type": "code",
      "metadata": {
        "id": "9Be1BpnIb_9s",
        "colab": {
          "base_uri": "https://localhost:8080/"
        },
        "outputId": "0e1abd59-a824-4bf3-d03c-4d3a4c5e07be"
      },
      "source": [
        "import pickle\n",
        "import pandas as pd\n",
        "\n",
        "\n",
        "with open('/content/drive/MyDrive/Privacy/generated data with pate/synthetic_data_x.csv', 'rb') as f:\n",
        "    data = pickle.load(f)\n",
        "df2 = pd.DataFrame(data, columns = [i for i in range(data.shape[1])])\n",
        "\n",
        "with open('/content/drive/MyDrive/Privacy/generated data with pate/synthetic_data_y.csv', 'rb') as f:\n",
        "    data = pickle.load(f)\n",
        "\n",
        "X_train_pate=  df2\n",
        "y_train_pate = data"
      ],
      "execution_count": null,
      "outputs": [
        {
          "output_type": "stream",
          "text": [
            "(1979, 30)\n"
          ],
          "name": "stdout"
        }
      ]
    },
    {
      "cell_type": "markdown",
      "metadata": {
        "id": "3NnfNk-r4Ln3"
      },
      "source": [
        "## Load synthetic data from SPRINT GAN"
      ]
    },
    {
      "cell_type": "code",
      "metadata": {
        "colab": {
          "base_uri": "https://localhost:8080/"
        },
        "id": "_FhQTnBg4RkT",
        "outputId": "9a435b71-3bf7-458f-87a0-88672e8f69f1"
      },
      "source": [
        "from pandas import read_csv\n",
        "# import x data\n",
        "dataframe = read_csv('/content/drive/MyDrive/Privacy/sprint/SPRINT_data_x_new4000.csv', header=None)\n",
        "x_sprint = dataframe.values\n",
        "X_sprint = x_sprint[:,1:]\n",
        "print(X_sprint.shape)\n",
        "\n",
        "# import y data\n",
        "dataframe = read_csv('/content/drive/MyDrive/Privacy/sprint/SPRINT_data_y_new4000.csv', header=None)\n",
        "Y_sprint = dataframe.values[:,1]\n",
        "print(Y_sprint.shape)\n",
        "\n",
        "\n",
        "print(X_sprint.shape) #this is a np array with 450 (it is max) positive and 1500 negative\n",
        "\n",
        "\n",
        "print(Y_sprint.shape)\n",
        "print(Y_sprint[1])\n"
      ],
      "execution_count": null,
      "outputs": [
        {
          "output_type": "stream",
          "text": [
            "(4001, 4)\n",
            "(4001,)\n",
            "(4001, 4)\n",
            "(4001,)\n",
            "1.0\n"
          ],
          "name": "stdout"
        }
      ]
    },
    {
      "cell_type": "markdown",
      "metadata": {
        "id": "M228Qir20F8B"
      },
      "source": [
        "## Load Synthetic data from ACPATE model"
      ]
    },
    {
      "cell_type": "code",
      "metadata": {
        "colab": {
          "base_uri": "https://localhost:8080/"
        },
        "id": "HezEpiW20G_0",
        "outputId": "d842b231-831c-4d80-bc48-e58ef2bc282c"
      },
      "source": [
        "import numpy as np\n",
        "import pickle\n",
        "import pandas as pd\n",
        "from pandas import read_csv\n",
        "\n",
        "# read the positive labels\n",
        "\n",
        "# with open(\"/content/drive/MyDrive/Privacy/ACPATE_results/positive_labels.csv\", 'rb') as f:\n",
        "#     data = pickle.load(f)\n",
        "# label_pos= data[:480]\n",
        "\n",
        "# choose 480 positive data and 1500 negative\n",
        "# choose 480 positive labels and 1500 negative\n",
        "with open('/content/drive/MyDrive/Privacy/ACPATE_results/X_ACPATE_NEW_4000.csv', 'rb') as f:\n",
        "    data = pickle.load(f)\n",
        "\n",
        "with open('/content/drive/MyDrive/Privacy/ACPATE_results/Y_ACPATE_NEW_4000.csv', 'rb') as f:\n",
        "    labels = pickle.load(f)\n",
        "print(data.shape)\n",
        "print(labels.shape)\n",
        "X_ACPATE = data\n",
        "Y_ACPATE = labels\n"
      ],
      "execution_count": null,
      "outputs": [
        {
          "output_type": "stream",
          "text": [
            "(4000, 4)\n",
            "(4000,)\n"
          ],
          "name": "stdout"
        }
      ]
    },
    {
      "cell_type": "markdown",
      "metadata": {
        "id": "5OtyRziSYd5O"
      },
      "source": [
        "# Neural Network"
      ]
    },
    {
      "cell_type": "code",
      "metadata": {
        "id": "BgUUaz17YcwB"
      },
      "source": [
        "from keras.models import Sequential\n",
        "from keras.layers import Dense\n",
        "from keras.layers import Dropout\n",
        "from keras import backend as K\n",
        "from sklearn.metrics import roc_auc_score\n",
        "from sklearn.metrics import precision_recall_curve\n",
        "import tensorflow as tf\n",
        "\n",
        "\n",
        "\n",
        "def recall_m(y_true, y_pred):\n",
        "    true_positives = K.sum(K.round(K.clip(y_true * y_pred, 0, 1)))\n",
        "    possible_positives = K.sum(K.round(K.clip(y_true, 0, 1)))\n",
        "    recall = true_positives / (possible_positives + K.epsilon())\n",
        "    return recall\n",
        "\n",
        "def precision_m(y_true, y_pred):\n",
        "    true_positives = K.sum(K.round(K.clip(y_true * y_pred, 0, 1)))\n",
        "    predicted_positives = K.sum(K.round(K.clip(y_pred, 0, 1)))\n",
        "    precision = true_positives / (predicted_positives + K.epsilon())\n",
        "    return precision\n",
        "\n",
        "def f1_m(y_true, y_pred):\n",
        "    precision = precision_m(y_true, y_pred)\n",
        "    recall = recall_m(y_true, y_pred)\n",
        "    return 2*((precision*recall)/(precision+recall+K.epsilon()))\n",
        "\n",
        "\n",
        "model = Sequential([\n",
        "Dense(input_dim = 4, units = 2, activation = 'relu'),\n",
        "# Dense(units = 32, activation = 'relu'),\n",
        "# Dropout(0.2),\n",
        "Dense(units = 10, activation = 'relu'),\n",
        "Dense(units = 4, activation = 'relu'),\n",
        "Dense(units =1, activation = 'sigmoid'),])\n"
      ],
      "execution_count": null,
      "outputs": []
    },
    {
      "cell_type": "markdown",
      "metadata": {
        "id": "4gchhxYZRQ33"
      },
      "source": [
        "# test real new data"
      ]
    },
    {
      "cell_type": "code",
      "metadata": {
        "id": "SreGPA85RO6c",
        "colab": {
          "base_uri": "https://localhost:8080/"
        },
        "outputId": "8de6bb79-af03-4057-c0c4-7cb134051ba1"
      },
      "source": [
        "\n",
        "\n",
        "model3.compile(optimizer = 'adam', loss = 'binary_crossentropy', metrics = ['accuracy', f1_m, precision_m, recall_m])\n",
        "model3.fit(X_train, y_train, batch_size = 15, epochs = 100)\n",
        "# evaluate the model2\n",
        "\n",
        "loss, accuracy, f1_score, precision, recall = model3.evaluate(X_test, y_test, verbose=0)\n",
        "print(loss, accuracy, f1_score, precision, recall)\n",
        "\n",
        "# y_pred = model2.predict(X_test)\n",
        "# print(y_pred.shape)"
      ],
      "execution_count": null,
      "outputs": [
        {
          "output_type": "stream",
          "text": [
            "Epoch 1/100\n",
            "67/67 [==============================] - 1s 1ms/step - loss: 0.6801 - accuracy: 0.5712 - f1_m: 0.0000e+00 - precision_m: 0.0000e+00 - recall_m: 0.0000e+00\n",
            "Epoch 2/100\n",
            "67/67 [==============================] - 0s 1ms/step - loss: 0.6656 - accuracy: 0.5402 - f1_m: 0.0000e+00 - precision_m: 0.0000e+00 - recall_m: 0.0000e+00\n",
            "Epoch 3/100\n",
            "67/67 [==============================] - 0s 1ms/step - loss: 0.6433 - accuracy: 0.5449 - f1_m: 0.0000e+00 - precision_m: 0.0000e+00 - recall_m: 0.0000e+00\n",
            "Epoch 4/100\n",
            "67/67 [==============================] - 0s 2ms/step - loss: 0.6121 - accuracy: 0.5941 - f1_m: 0.0123 - precision_m: 0.0329 - recall_m: 0.0077\n",
            "Epoch 5/100\n",
            "67/67 [==============================] - 0s 1ms/step - loss: 0.5963 - accuracy: 0.6643 - f1_m: 0.3739 - precision_m: 0.8359 - recall_m: 0.2550\n",
            "Epoch 6/100\n",
            "67/67 [==============================] - 0s 2ms/step - loss: 0.5868 - accuracy: 0.7074 - f1_m: 0.5134 - precision_m: 0.9142 - recall_m: 0.3763\n",
            "Epoch 7/100\n",
            "67/67 [==============================] - 0s 2ms/step - loss: 0.5286 - accuracy: 0.7582 - f1_m: 0.6536 - precision_m: 0.8255 - recall_m: 0.5652\n",
            "Epoch 8/100\n",
            "67/67 [==============================] - 0s 1ms/step - loss: 0.4835 - accuracy: 0.8020 - f1_m: 0.7112 - precision_m: 0.7924 - recall_m: 0.6776\n",
            "Epoch 9/100\n",
            "67/67 [==============================] - 0s 1ms/step - loss: 0.4514 - accuracy: 0.8065 - f1_m: 0.7476 - precision_m: 0.8176 - recall_m: 0.7105\n",
            "Epoch 10/100\n",
            "67/67 [==============================] - 0s 1ms/step - loss: 0.4196 - accuracy: 0.8235 - f1_m: 0.7644 - precision_m: 0.8554 - recall_m: 0.7164\n",
            "Epoch 11/100\n",
            "67/67 [==============================] - 0s 1ms/step - loss: 0.3919 - accuracy: 0.8250 - f1_m: 0.7839 - precision_m: 0.8170 - recall_m: 0.7773\n",
            "Epoch 12/100\n",
            "67/67 [==============================] - 0s 1ms/step - loss: 0.3493 - accuracy: 0.8498 - f1_m: 0.8117 - precision_m: 0.8686 - recall_m: 0.7837\n",
            "Epoch 13/100\n",
            "67/67 [==============================] - 0s 1ms/step - loss: 0.3063 - accuracy: 0.8850 - f1_m: 0.8569 - precision_m: 0.9013 - recall_m: 0.8429\n",
            "Epoch 14/100\n",
            "67/67 [==============================] - 0s 1ms/step - loss: 0.2949 - accuracy: 0.8840 - f1_m: 0.8490 - precision_m: 0.8606 - recall_m: 0.8510\n",
            "Epoch 15/100\n",
            "67/67 [==============================] - 0s 2ms/step - loss: 0.2725 - accuracy: 0.8976 - f1_m: 0.8778 - precision_m: 0.9100 - recall_m: 0.8631\n",
            "Epoch 16/100\n",
            "67/67 [==============================] - 0s 1ms/step - loss: 0.2373 - accuracy: 0.9144 - f1_m: 0.8919 - precision_m: 0.9163 - recall_m: 0.8900\n",
            "Epoch 17/100\n",
            "67/67 [==============================] - 0s 1ms/step - loss: 0.2274 - accuracy: 0.9227 - f1_m: 0.9083 - precision_m: 0.9262 - recall_m: 0.9029\n",
            "Epoch 18/100\n",
            "67/67 [==============================] - 0s 1ms/step - loss: 0.2078 - accuracy: 0.9339 - f1_m: 0.9239 - precision_m: 0.9242 - recall_m: 0.9319\n",
            "Epoch 19/100\n",
            "67/67 [==============================] - 0s 1ms/step - loss: 0.2024 - accuracy: 0.9277 - f1_m: 0.9117 - precision_m: 0.9328 - recall_m: 0.9058\n",
            "Epoch 20/100\n",
            "67/67 [==============================] - 0s 1ms/step - loss: 0.2104 - accuracy: 0.9204 - f1_m: 0.9102 - precision_m: 0.9063 - recall_m: 0.9289\n",
            "Epoch 21/100\n",
            "67/67 [==============================] - 0s 1ms/step - loss: 0.1706 - accuracy: 0.9474 - f1_m: 0.9400 - precision_m: 0.9431 - recall_m: 0.9452\n",
            "Epoch 22/100\n",
            "67/67 [==============================] - 0s 1ms/step - loss: 0.1573 - accuracy: 0.9485 - f1_m: 0.9395 - precision_m: 0.9522 - recall_m: 0.9367\n",
            "Epoch 23/100\n",
            "67/67 [==============================] - 0s 1ms/step - loss: 0.1605 - accuracy: 0.9541 - f1_m: 0.9434 - precision_m: 0.9432 - recall_m: 0.9543\n",
            "Epoch 24/100\n",
            "67/67 [==============================] - 0s 1ms/step - loss: 0.1591 - accuracy: 0.9532 - f1_m: 0.9451 - precision_m: 0.9308 - recall_m: 0.9693\n",
            "Epoch 25/100\n",
            "67/67 [==============================] - 0s 1ms/step - loss: 0.1617 - accuracy: 0.9554 - f1_m: 0.9440 - precision_m: 0.9476 - recall_m: 0.9498\n",
            "Epoch 26/100\n",
            "67/67 [==============================] - 0s 1ms/step - loss: 0.1980 - accuracy: 0.9434 - f1_m: 0.9366 - precision_m: 0.9214 - recall_m: 0.9644\n",
            "Epoch 27/100\n",
            "67/67 [==============================] - 0s 1ms/step - loss: 0.1561 - accuracy: 0.9559 - f1_m: 0.9530 - precision_m: 0.9506 - recall_m: 0.9634\n",
            "Epoch 28/100\n",
            "67/67 [==============================] - 0s 1ms/step - loss: 0.1836 - accuracy: 0.9454 - f1_m: 0.9401 - precision_m: 0.9428 - recall_m: 0.9484\n",
            "Epoch 29/100\n",
            "67/67 [==============================] - 0s 1ms/step - loss: 0.1430 - accuracy: 0.9582 - f1_m: 0.9542 - precision_m: 0.9601 - recall_m: 0.9571\n",
            "Epoch 30/100\n",
            "67/67 [==============================] - 0s 2ms/step - loss: 0.1446 - accuracy: 0.9618 - f1_m: 0.9562 - precision_m: 0.9594 - recall_m: 0.9605\n",
            "Epoch 31/100\n",
            "67/67 [==============================] - 0s 1ms/step - loss: 0.1329 - accuracy: 0.9625 - f1_m: 0.9568 - precision_m: 0.9642 - recall_m: 0.9566\n",
            "Epoch 32/100\n",
            "67/67 [==============================] - 0s 2ms/step - loss: 0.1369 - accuracy: 0.9590 - f1_m: 0.9477 - precision_m: 0.9437 - recall_m: 0.9566\n",
            "Epoch 33/100\n",
            "67/67 [==============================] - 0s 2ms/step - loss: 0.1472 - accuracy: 0.9605 - f1_m: 0.9557 - precision_m: 0.9488 - recall_m: 0.9698\n",
            "Epoch 34/100\n",
            "67/67 [==============================] - 0s 1ms/step - loss: 0.1790 - accuracy: 0.9460 - f1_m: 0.9247 - precision_m: 0.9231 - recall_m: 0.9407\n",
            "Epoch 35/100\n",
            "67/67 [==============================] - 0s 2ms/step - loss: 0.1029 - accuracy: 0.9733 - f1_m: 0.9701 - precision_m: 0.9796 - recall_m: 0.9654\n",
            "Epoch 36/100\n",
            "67/67 [==============================] - 0s 1ms/step - loss: 0.1476 - accuracy: 0.9557 - f1_m: 0.9441 - precision_m: 0.9545 - recall_m: 0.9413\n",
            "Epoch 37/100\n",
            "67/67 [==============================] - 0s 1ms/step - loss: 0.1459 - accuracy: 0.9661 - f1_m: 0.9535 - precision_m: 0.9429 - recall_m: 0.9747\n",
            "Epoch 38/100\n",
            "67/67 [==============================] - 0s 1ms/step - loss: 0.1221 - accuracy: 0.9655 - f1_m: 0.9560 - precision_m: 0.9590 - recall_m: 0.9573\n",
            "Epoch 39/100\n",
            "67/67 [==============================] - 0s 1ms/step - loss: 0.1608 - accuracy: 0.9501 - f1_m: 0.9418 - precision_m: 0.9442 - recall_m: 0.9487\n",
            "Epoch 40/100\n",
            "67/67 [==============================] - 0s 1ms/step - loss: 0.1314 - accuracy: 0.9541 - f1_m: 0.9407 - precision_m: 0.9612 - recall_m: 0.9326\n",
            "Epoch 41/100\n",
            "67/67 [==============================] - 0s 1ms/step - loss: 0.1410 - accuracy: 0.9598 - f1_m: 0.9450 - precision_m: 0.9574 - recall_m: 0.9437\n",
            "Epoch 42/100\n",
            "67/67 [==============================] - 0s 1ms/step - loss: 0.1489 - accuracy: 0.9559 - f1_m: 0.9500 - precision_m: 0.9500 - recall_m: 0.9569\n",
            "Epoch 43/100\n",
            "67/67 [==============================] - 0s 2ms/step - loss: 0.1274 - accuracy: 0.9620 - f1_m: 0.9572 - precision_m: 0.9544 - recall_m: 0.9673\n",
            "Epoch 44/100\n",
            "67/67 [==============================] - 0s 1ms/step - loss: 0.1345 - accuracy: 0.9641 - f1_m: 0.9601 - precision_m: 0.9633 - recall_m: 0.9623\n",
            "Epoch 45/100\n",
            "67/67 [==============================] - 0s 2ms/step - loss: 0.1213 - accuracy: 0.9625 - f1_m: 0.9564 - precision_m: 0.9628 - recall_m: 0.9585\n",
            "Epoch 46/100\n",
            "67/67 [==============================] - 0s 1ms/step - loss: 0.1356 - accuracy: 0.9614 - f1_m: 0.9525 - precision_m: 0.9514 - recall_m: 0.9631\n",
            "Epoch 47/100\n",
            "67/67 [==============================] - 0s 1ms/step - loss: 0.1012 - accuracy: 0.9741 - f1_m: 0.9699 - precision_m: 0.9688 - recall_m: 0.9748\n",
            "Epoch 48/100\n",
            "67/67 [==============================] - 0s 1ms/step - loss: 0.1053 - accuracy: 0.9733 - f1_m: 0.9678 - precision_m: 0.9741 - recall_m: 0.9670\n",
            "Epoch 49/100\n",
            "67/67 [==============================] - 0s 1ms/step - loss: 0.1248 - accuracy: 0.9624 - f1_m: 0.9524 - precision_m: 0.9438 - recall_m: 0.9684\n",
            "Epoch 50/100\n",
            "67/67 [==============================] - 0s 1ms/step - loss: 0.1457 - accuracy: 0.9545 - f1_m: 0.9485 - precision_m: 0.9443 - recall_m: 0.9636\n",
            "Epoch 51/100\n",
            "67/67 [==============================] - 0s 1ms/step - loss: 0.1069 - accuracy: 0.9702 - f1_m: 0.9610 - precision_m: 0.9650 - recall_m: 0.9606\n",
            "Epoch 52/100\n",
            "67/67 [==============================] - 0s 2ms/step - loss: 0.1323 - accuracy: 0.9603 - f1_m: 0.9507 - precision_m: 0.9556 - recall_m: 0.9525\n",
            "Epoch 53/100\n",
            "67/67 [==============================] - 0s 2ms/step - loss: 0.1422 - accuracy: 0.9545 - f1_m: 0.9485 - precision_m: 0.9515 - recall_m: 0.9512\n",
            "Epoch 54/100\n",
            "67/67 [==============================] - 0s 2ms/step - loss: 0.1222 - accuracy: 0.9641 - f1_m: 0.9542 - precision_m: 0.9580 - recall_m: 0.9543\n",
            "Epoch 55/100\n",
            "67/67 [==============================] - 0s 1ms/step - loss: 0.1397 - accuracy: 0.9578 - f1_m: 0.9479 - precision_m: 0.9506 - recall_m: 0.9527\n",
            "Epoch 56/100\n",
            "67/67 [==============================] - 0s 1ms/step - loss: 0.1152 - accuracy: 0.9664 - f1_m: 0.9651 - precision_m: 0.9602 - recall_m: 0.9761\n",
            "Epoch 57/100\n",
            "67/67 [==============================] - 0s 1ms/step - loss: 0.1285 - accuracy: 0.9655 - f1_m: 0.9578 - precision_m: 0.9528 - recall_m: 0.9706\n",
            "Epoch 58/100\n",
            "67/67 [==============================] - 0s 1ms/step - loss: 0.1069 - accuracy: 0.9671 - f1_m: 0.9576 - precision_m: 0.9556 - recall_m: 0.9665\n",
            "Epoch 59/100\n",
            "67/67 [==============================] - 0s 1ms/step - loss: 0.1598 - accuracy: 0.9520 - f1_m: 0.9423 - precision_m: 0.9379 - recall_m: 0.9517\n",
            "Epoch 60/100\n",
            "67/67 [==============================] - 0s 2ms/step - loss: 0.1128 - accuracy: 0.9672 - f1_m: 0.9615 - precision_m: 0.9608 - recall_m: 0.9665\n",
            "Epoch 61/100\n",
            "67/67 [==============================] - 0s 2ms/step - loss: 0.1380 - accuracy: 0.9577 - f1_m: 0.9515 - precision_m: 0.9483 - recall_m: 0.9574\n",
            "Epoch 62/100\n",
            "67/67 [==============================] - 0s 2ms/step - loss: 0.1390 - accuracy: 0.9619 - f1_m: 0.9514 - precision_m: 0.9386 - recall_m: 0.9740\n",
            "Epoch 63/100\n",
            "67/67 [==============================] - 0s 1ms/step - loss: 0.1184 - accuracy: 0.9664 - f1_m: 0.9628 - precision_m: 0.9569 - recall_m: 0.9726\n",
            "Epoch 64/100\n",
            "67/67 [==============================] - 0s 1ms/step - loss: 0.1431 - accuracy: 0.9590 - f1_m: 0.9379 - precision_m: 0.9430 - recall_m: 0.9499\n",
            "Epoch 65/100\n",
            "67/67 [==============================] - 0s 1ms/step - loss: 0.1374 - accuracy: 0.9629 - f1_m: 0.9527 - precision_m: 0.9449 - recall_m: 0.9669\n",
            "Epoch 66/100\n",
            "67/67 [==============================] - 0s 1ms/step - loss: 0.0928 - accuracy: 0.9729 - f1_m: 0.9663 - precision_m: 0.9705 - recall_m: 0.9676\n",
            "Epoch 67/100\n",
            "67/67 [==============================] - 0s 2ms/step - loss: 0.1245 - accuracy: 0.9683 - f1_m: 0.9635 - precision_m: 0.9524 - recall_m: 0.9806\n",
            "Epoch 68/100\n",
            "67/67 [==============================] - 0s 1ms/step - loss: 0.1212 - accuracy: 0.9633 - f1_m: 0.9546 - precision_m: 0.9584 - recall_m: 0.9578\n",
            "Epoch 69/100\n",
            "67/67 [==============================] - 0s 1ms/step - loss: 0.1127 - accuracy: 0.9699 - f1_m: 0.9652 - precision_m: 0.9635 - recall_m: 0.9711\n",
            "Epoch 70/100\n",
            "67/67 [==============================] - 0s 1ms/step - loss: 0.1192 - accuracy: 0.9649 - f1_m: 0.9563 - precision_m: 0.9411 - recall_m: 0.9812\n",
            "Epoch 71/100\n",
            "67/67 [==============================] - 0s 2ms/step - loss: 0.1370 - accuracy: 0.9593 - f1_m: 0.9499 - precision_m: 0.9442 - recall_m: 0.9664\n",
            "Epoch 72/100\n",
            "67/67 [==============================] - 0s 1ms/step - loss: 0.1098 - accuracy: 0.9725 - f1_m: 0.9717 - precision_m: 0.9678 - recall_m: 0.9788\n",
            "Epoch 73/100\n",
            "67/67 [==============================] - 0s 2ms/step - loss: 0.1184 - accuracy: 0.9662 - f1_m: 0.9620 - precision_m: 0.9516 - recall_m: 0.9767\n",
            "Epoch 74/100\n",
            "67/67 [==============================] - 0s 1ms/step - loss: 0.1188 - accuracy: 0.9668 - f1_m: 0.9599 - precision_m: 0.9448 - recall_m: 0.9818\n",
            "Epoch 75/100\n",
            "67/67 [==============================] - 0s 2ms/step - loss: 0.1384 - accuracy: 0.9560 - f1_m: 0.9394 - precision_m: 0.9308 - recall_m: 0.9548\n",
            "Epoch 76/100\n",
            "67/67 [==============================] - 0s 1ms/step - loss: 0.1088 - accuracy: 0.9726 - f1_m: 0.9685 - precision_m: 0.9647 - recall_m: 0.9753\n",
            "Epoch 77/100\n",
            "67/67 [==============================] - 0s 1ms/step - loss: 0.1107 - accuracy: 0.9717 - f1_m: 0.9645 - precision_m: 0.9602 - recall_m: 0.9748\n",
            "Epoch 78/100\n",
            "67/67 [==============================] - 0s 1ms/step - loss: 0.1319 - accuracy: 0.9616 - f1_m: 0.9537 - precision_m: 0.9384 - recall_m: 0.9749\n",
            "Epoch 79/100\n",
            "67/67 [==============================] - 0s 1ms/step - loss: 0.1003 - accuracy: 0.9755 - f1_m: 0.9715 - precision_m: 0.9618 - recall_m: 0.9843\n",
            "Epoch 80/100\n",
            "67/67 [==============================] - 0s 2ms/step - loss: 0.1176 - accuracy: 0.9702 - f1_m: 0.9651 - precision_m: 0.9544 - recall_m: 0.9810\n",
            "Epoch 81/100\n",
            "67/67 [==============================] - 0s 2ms/step - loss: 0.1292 - accuracy: 0.9656 - f1_m: 0.9543 - precision_m: 0.9333 - recall_m: 0.9843\n",
            "Epoch 82/100\n",
            "67/67 [==============================] - 0s 2ms/step - loss: 0.1300 - accuracy: 0.9600 - f1_m: 0.9572 - precision_m: 0.9409 - recall_m: 0.9826\n",
            "Epoch 83/100\n",
            "67/67 [==============================] - 0s 2ms/step - loss: 0.1227 - accuracy: 0.9646 - f1_m: 0.9603 - precision_m: 0.9403 - recall_m: 0.9867\n",
            "Epoch 84/100\n",
            "67/67 [==============================] - 0s 1ms/step - loss: 0.0900 - accuracy: 0.9791 - f1_m: 0.9774 - precision_m: 0.9709 - recall_m: 0.9875\n",
            "Epoch 85/100\n",
            "67/67 [==============================] - 0s 1ms/step - loss: 0.1138 - accuracy: 0.9664 - f1_m: 0.9583 - precision_m: 0.9558 - recall_m: 0.9670\n",
            "Epoch 86/100\n",
            "67/67 [==============================] - 0s 1ms/step - loss: 0.1044 - accuracy: 0.9721 - f1_m: 0.9688 - precision_m: 0.9650 - recall_m: 0.9777\n",
            "Epoch 87/100\n",
            "67/67 [==============================] - 0s 1ms/step - loss: 0.1365 - accuracy: 0.9596 - f1_m: 0.9540 - precision_m: 0.9368 - recall_m: 0.9788\n",
            "Epoch 88/100\n",
            "67/67 [==============================] - 0s 1ms/step - loss: 0.1281 - accuracy: 0.9661 - f1_m: 0.9595 - precision_m: 0.9485 - recall_m: 0.9788\n",
            "Epoch 89/100\n",
            "67/67 [==============================] - 0s 2ms/step - loss: 0.1159 - accuracy: 0.9697 - f1_m: 0.9638 - precision_m: 0.9507 - recall_m: 0.9813\n",
            "Epoch 90/100\n",
            "67/67 [==============================] - 0s 1ms/step - loss: 0.1301 - accuracy: 0.9612 - f1_m: 0.9516 - precision_m: 0.9394 - recall_m: 0.9731\n",
            "Epoch 91/100\n",
            "67/67 [==============================] - 0s 1ms/step - loss: 0.1244 - accuracy: 0.9670 - f1_m: 0.9595 - precision_m: 0.9441 - recall_m: 0.9830\n",
            "Epoch 92/100\n",
            "67/67 [==============================] - 0s 2ms/step - loss: 0.1208 - accuracy: 0.9636 - f1_m: 0.9589 - precision_m: 0.9450 - recall_m: 0.9784\n",
            "Epoch 93/100\n",
            "67/67 [==============================] - 0s 1ms/step - loss: 0.1423 - accuracy: 0.9602 - f1_m: 0.9573 - precision_m: 0.9430 - recall_m: 0.9776\n",
            "Epoch 94/100\n",
            "67/67 [==============================] - 0s 1ms/step - loss: 0.1109 - accuracy: 0.9709 - f1_m: 0.9611 - precision_m: 0.9527 - recall_m: 0.9739\n",
            "Epoch 95/100\n",
            "67/67 [==============================] - 0s 2ms/step - loss: 0.1094 - accuracy: 0.9731 - f1_m: 0.9687 - precision_m: 0.9619 - recall_m: 0.9804\n",
            "Epoch 96/100\n",
            "67/67 [==============================] - 0s 1ms/step - loss: 0.1221 - accuracy: 0.9620 - f1_m: 0.9528 - precision_m: 0.9348 - recall_m: 0.9803\n",
            "Epoch 97/100\n",
            "67/67 [==============================] - 0s 1ms/step - loss: 0.1097 - accuracy: 0.9659 - f1_m: 0.9654 - precision_m: 0.9535 - recall_m: 0.9813\n",
            "Epoch 98/100\n",
            "67/67 [==============================] - 0s 1ms/step - loss: 0.0997 - accuracy: 0.9687 - f1_m: 0.9609 - precision_m: 0.9465 - recall_m: 0.9820\n",
            "Epoch 99/100\n",
            "67/67 [==============================] - 0s 1ms/step - loss: 0.1191 - accuracy: 0.9642 - f1_m: 0.9621 - precision_m: 0.9501 - recall_m: 0.9797\n",
            "Epoch 100/100\n",
            "67/67 [==============================] - 0s 1ms/step - loss: 0.1267 - accuracy: 0.9640 - f1_m: 0.9596 - precision_m: 0.9499 - recall_m: 0.9764\n",
            "0.126058891415596 0.9623655676841736 0.9595480561256409 0.9525585174560547 0.9708318114280701\n"
          ],
          "name": "stdout"
        }
      ]
    }
  ]
}