{
  "nbformat": 4,
  "nbformat_minor": 0,
  "metadata": {
    "colab": {
      "name": "DPGAN_evaluation.ipynb",
      "provenance": [],
      "collapsed_sections": []
    },
    "kernelspec": {
      "name": "python3",
      "display_name": "Python 3"
    },
    "language_info": {
      "name": "python"
    }
  },
  "cells": [
    {
      "cell_type": "code",
      "metadata": {
        "colab": {
          "base_uri": "https://localhost:8080/"
        },
        "id": "PxbaNaJrBBU_",
        "outputId": "e7cdd0ef-0265-495f-f79c-cb978b9dd2ac"
      },
      "source": [
        "from google.colab import drive\n",
        "drive.mount('/content/drive')"
      ],
      "execution_count": null,
      "outputs": [
        {
          "output_type": "stream",
          "text": [
            "Mounted at /content/drive\n"
          ],
          "name": "stdout"
        }
      ]
    },
    {
      "cell_type": "markdown",
      "metadata": {
        "id": "5WQxbkMYPAzg"
      },
      "source": [
        "## results = Loss: 0.8320606350898743 \n",
        "Acc:0.7473118305206299 \n",
        "F1 score:0.6648995876312256  \n",
        "Precision: 0.859656035900116\n",
        "Recall: 0.5507643818855286"
      ]
    },
    {
      "cell_type": "code",
      "metadata": {
        "colab": {
          "base_uri": "https://localhost:8080/"
        },
        "id": "3VYo3QVABFfC",
        "outputId": "6694b6a0-114e-4ce3-d0a3-488df408031f"
      },
      "source": [
        "# load the dataset\n",
        "from pandas import read_csv\n",
        "from scipy.special import expit\n",
        "from sklearn.utils import shuffle\n",
        "import pickle\n",
        "def load_dataset_train(full_path = '/content/drive/MyDrive/Privacy/real_data_train.csv'):\n",
        "  # load the dataset as a numpy array\n",
        "  with open(full_path, 'rb') as f:\n",
        "    data = pickle.load(f)\n",
        "  # retrieve numpy array\n",
        "  data = data.values\n",
        "  # split into input and output elements\n",
        "  X, y = data[:, :-1], data[:, -1]\n",
        "  return X, y\n",
        "\n",
        "X_train, y_train = load_dataset_train()\n",
        "X_train = expit(X_train)\n",
        "print(X_train.shape, y_train.shape)\n",
        "print(X_train[0])\n",
        "\n",
        "\n",
        "def load_dataset_test(full_path = '/content/drive/MyDrive/Privacy/real_data_test.csv'):\n",
        "  # load the dataset as a numpy array\n",
        "  with open(full_path, 'rb') as f:\n",
        "    data = pickle.load(f)\n",
        "  # retrieve numpy array\n",
        "  data = data.values\n",
        "  # split into input and output elements\n",
        "  X, y = data[:, :-1], data[:, -1]\n",
        "  return X, y\n",
        "\n",
        "X_test, y_test = load_dataset_test()\n",
        "X_test = expit(X_test)\n",
        "print(X_test.shape)"
      ],
      "execution_count": null,
      "outputs": [
        {
          "output_type": "stream",
          "text": [
            "(1000, 4) (1000,)\n",
            "[0.99411941 0.99982842 0.05258531 0.18114637]\n",
            "(372, 4)\n"
          ],
          "name": "stdout"
        }
      ]
    },
    {
      "cell_type": "markdown",
      "metadata": {
        "id": "TNq22PhNBjjL"
      },
      "source": [
        "# DPGAN"
      ]
    },
    {
      "cell_type": "code",
      "metadata": {
        "colab": {
          "base_uri": "https://localhost:8080/"
        },
        "id": "Xc6M6uHjBjJV",
        "outputId": "a491875a-7728-40b7-f664-a81913377851"
      },
      "source": [
        "from pandas import read_csv\n",
        "import numpy as np\n",
        "dataframe = read_csv('/content/drive/MyDrive/Privacy/DPGAN_neg_NEWdata.csv', header=None)\n",
        "data = dataframe.values\n",
        "# split into input and output elements\n",
        "x_test_neg = data[:,1:]\n",
        "print(x_test_neg[3])\n",
        "y_test_neg = np.zeros(x_test_neg.shape[0])\n",
        "print(y_test_neg.shape)\n",
        "\n",
        "\n",
        "from pandas import read_csv\n",
        "dataframe2 = read_csv(\"/content/drive/MyDrive/Privacy/DPGAN_pos_NEWdata.csv\", header=None)\n",
        "data2 = dataframe2.values\n",
        "# print(data2.shape)\n",
        "x_test_pos = data2[:,1:]\n",
        "print(x_test_pos[10])\n",
        "y_test_pos = np.ones(x_test_pos.shape[0])\n",
        "print(y_test_pos.shape)\n",
        "\n",
        "\n",
        "\n",
        "# DPGAN train data\n",
        "from sklearn.model_selection import train_test_split\n",
        "x_s_dpgan = np.concatenate((x_test_neg[:,:], x_test_pos))\n",
        "y_s_dpgan = np.concatenate((y_test_neg[:], y_test_pos))\n",
        "# X_train_dpgan, _, Y_train_dpgan, _ = train_test_split(x_s_dpgan, y_s_dpgan, test_size = 0.001, random_state = 0)\n",
        "X_train_dpgan , Y_train_dpgan = shuffle(x_s_dpgan,y_s_dpgan)\n",
        "print(X_train_dpgan.shape)\n",
        "print(Y_train_dpgan.shape)"
      ],
      "execution_count": null,
      "outputs": [
        {
          "output_type": "stream",
          "text": [
            "[0.8417605  0.67365986 0.8866259  0.50857836]\n",
            "(501,)\n",
            "[-0.2195718   0.77580434  0.46309352  0.4026301 ]\n",
            "(501,)\n",
            "(1002, 4)\n",
            "(1002,)\n"
          ],
          "name": "stdout"
        }
      ]
    },
    {
      "cell_type": "markdown",
      "metadata": {
        "id": "27t6BFqJBvub"
      },
      "source": [
        "# model"
      ]
    },
    {
      "cell_type": "code",
      "metadata": {
        "id": "QPTWOMLwBwgV"
      },
      "source": [
        "from keras.models import Sequential\n",
        "from keras.layers import Dense\n",
        "from keras.layers import Dropout\n",
        "from keras import backend as K\n",
        "from sklearn.metrics import roc_auc_score\n",
        "from sklearn.metrics import precision_recall_curve\n",
        "import tensorflow as tf\n",
        "\n",
        "\n",
        "\n",
        "def recall_m(y_true, y_pred):\n",
        "    true_positives = K.sum(K.round(K.clip(y_true * y_pred, 0, 1)))\n",
        "    possible_positives = K.sum(K.round(K.clip(y_true, 0, 1)))\n",
        "    recall = true_positives / (possible_positives + K.epsilon())\n",
        "    return recall\n",
        "\n",
        "def precision_m(y_true, y_pred):\n",
        "    true_positives = K.sum(K.round(K.clip(y_true * y_pred, 0, 1)))\n",
        "    predicted_positives = K.sum(K.round(K.clip(y_pred, 0, 1)))\n",
        "    precision = true_positives / (predicted_positives + K.epsilon())\n",
        "    return precision\n",
        "\n",
        "def f1_m(y_true, y_pred):\n",
        "    precision = precision_m(y_true, y_pred)\n",
        "    recall = recall_m(y_true, y_pred)\n",
        "    return 2*((precision*recall)/(precision+recall+K.epsilon()))\n",
        "\n",
        "\n",
        "model = Sequential([\n",
        "Dense(input_dim = 4, units = 2, activation = 'relu'),\n",
        "# Dense(units = 32, activation = 'relu'),\n",
        "# Dropout(0.2),\n",
        "Dense(units = 10, activation = 'relu'),\n",
        "Dense(units = 4, activation = 'relu'),\n",
        "Dense(units =1, activation = 'sigmoid'),])\n"
      ],
      "execution_count": null,
      "outputs": []
    },
    {
      "cell_type": "code",
      "metadata": {
        "colab": {
          "base_uri": "https://localhost:8080/"
        },
        "id": "NlI3CaqcojO8",
        "outputId": "b9a33f49-2b52-41b4-d887-7c161d68de9a"
      },
      "source": [
        "model.compile(optimizer = 'adam', loss = 'binary_crossentropy', metrics = ['accuracy', f1_m, precision_m, recall_m])\n",
        "model.fit(X_train_dpgan, Y_train_dpgan, batch_size = 15, epochs = 15)\n",
        "# evaluate the model\n",
        "loss, accuracy, f1_score, precision, recall = model.evaluate(X_test, y_test, verbose=0)\n",
        "print(loss, accuracy, f1_score, precision, recall)"
      ],
      "execution_count": null,
      "outputs": [
        {
          "output_type": "stream",
          "text": [
            "Epoch 1/15\n",
            "67/67 [==============================] - 1s 1ms/step - loss: 0.0023 - accuracy: 0.9974 - f1_m: 0.9964 - precision_m: 0.9942 - recall_m: 0.9993\n",
            "Epoch 2/15\n",
            "67/67 [==============================] - 0s 1ms/step - loss: 0.0020 - accuracy: 0.9994 - f1_m: 0.9995 - precision_m: 0.9991 - recall_m: 1.0000\n",
            "Epoch 3/15\n",
            "67/67 [==============================] - 0s 1ms/step - loss: 0.0011 - accuracy: 0.9987 - f1_m: 0.9986 - precision_m: 0.9983 - recall_m: 0.9992\n",
            "Epoch 4/15\n",
            "67/67 [==============================] - 0s 1ms/step - loss: 0.0025 - accuracy: 0.9970 - f1_m: 0.9975 - precision_m: 0.9967 - recall_m: 0.9986\n",
            "Epoch 5/15\n",
            "67/67 [==============================] - 0s 2ms/step - loss: 0.0016 - accuracy: 0.9989 - f1_m: 0.9990 - precision_m: 0.9982 - recall_m: 1.0000\n",
            "Epoch 6/15\n",
            "67/67 [==============================] - 0s 1ms/step - loss: 0.0022 - accuracy: 0.9992 - f1_m: 0.9991 - precision_m: 0.9984 - recall_m: 1.0000\n",
            "Epoch 7/15\n",
            "67/67 [==============================] - 0s 1ms/step - loss: 0.0027 - accuracy: 0.9966 - f1_m: 0.9967 - precision_m: 0.9982 - recall_m: 0.9957\n",
            "Epoch 8/15\n",
            "67/67 [==============================] - 0s 1ms/step - loss: 0.0030 - accuracy: 0.9963 - f1_m: 0.9968 - precision_m: 0.9980 - recall_m: 0.9959\n",
            "Epoch 9/15\n",
            "67/67 [==============================] - 0s 1ms/step - loss: 8.9695e-04 - accuracy: 0.9990 - f1_m: 0.9984 - precision_m: 0.9996 - recall_m: 0.9975\n",
            "Epoch 10/15\n",
            "67/67 [==============================] - 0s 1ms/step - loss: 0.0022 - accuracy: 0.9995 - f1_m: 0.9996 - precision_m: 1.0000 - recall_m: 0.9992\n",
            "Epoch 11/15\n",
            "67/67 [==============================] - 0s 1ms/step - loss: 0.0038 - accuracy: 0.9951 - f1_m: 0.9951 - precision_m: 0.9979 - recall_m: 0.9930\n",
            "Epoch 12/15\n",
            "67/67 [==============================] - 0s 1ms/step - loss: 5.9162e-04 - accuracy: 0.9997 - f1_m: 0.9997 - precision_m: 1.0000 - recall_m: 0.9995\n",
            "Epoch 13/15\n",
            "67/67 [==============================] - 0s 1ms/step - loss: 0.0015 - accuracy: 0.9980 - f1_m: 0.9967 - precision_m: 0.9999 - recall_m: 0.9942\n",
            "Epoch 14/15\n",
            "67/67 [==============================] - 0s 1ms/step - loss: 6.0954e-04 - accuracy: 0.9996 - f1_m: 0.9997 - precision_m: 1.0000 - recall_m: 0.9994\n",
            "Epoch 15/15\n",
            "67/67 [==============================] - 0s 1ms/step - loss: 5.8151e-04 - accuracy: 0.9998 - f1_m: 0.9999 - precision_m: 1.0000 - recall_m: 0.9997\n",
            "0.8320606350898743 0.7473118305206299 0.6648995876312256 0.859656035900116 0.5507643818855286\n"
          ],
          "name": "stdout"
        }
      ]
    }
  ]
}