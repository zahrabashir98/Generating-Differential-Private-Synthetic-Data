{
  "nbformat": 4,
  "nbformat_minor": 0,
  "metadata": {
    "colab": {
      "name": "AC_PATE_GAN_TEST.ipynb",
      "provenance": [],
      "collapsed_sections": []
    },
    "kernelspec": {
      "name": "python3",
      "display_name": "Python 3"
    },
    "language_info": {
      "name": "python"
    }
  },
  "cells": [
    {
      "cell_type": "code",
      "metadata": {
        "colab": {
          "base_uri": "https://localhost:8080/"
        },
        "id": "HCmuMRWl_XtI",
        "outputId": "91c4279c-e645-4641-ed73-9d065a5d86ba"
      },
      "source": [
        "from google.colab import drive\n",
        "drive.mount('/content/drive')"
      ],
      "execution_count": 1,
      "outputs": [
        {
          "output_type": "stream",
          "text": [
            "Mounted at /content/drive\n"
          ],
          "name": "stdout"
        }
      ]
    },
    {
      "cell_type": "markdown",
      "metadata": {
        "id": "MZEmEFOQ1wBY"
      },
      "source": [
        "# Load Real Data"
      ]
    },
    {
      "cell_type": "code",
      "metadata": {
        "colab": {
          "base_uri": "https://localhost:8080/"
        },
        "id": "28d2ZHkN_Q2H",
        "outputId": "0f56082f-49fd-4493-b834-5fa842ac9b02"
      },
      "source": [
        "from pandas import read_csv\n",
        "from scipy.special import expit\n",
        "from sklearn.utils import shuffle\n",
        "import pickle\n",
        "\n",
        "def load_dataset_test(full_path = '/content/drive/MyDrive/Privacy/real_data_test.csv'):\n",
        "  # load the dataset as a numpy array\n",
        "  with open(full_path, 'rb') as f:\n",
        "    data = pickle.load(f)\n",
        "  print(data)\n",
        "  # retrieve numpy array\n",
        "  data = data.values\n",
        "  # split into input and output elements\n",
        "  X, y = data[:, :-1], data[:, -1]\n",
        "  return X, y\n",
        "\n",
        "X_test, y_test = load_dataset_test()\n",
        "X_test = expit(X_test)\n",
        "# print(X.shape,y.shape)"
      ],
      "execution_count": 2,
      "outputs": [
        {
          "output_type": "stream",
          "text": [
            "            0         1        2        3  4\n",
            "63    1.79390  -1.11740  1.54540 -0.26079  0\n",
            "529  -1.38850  12.50260  0.69118 -7.54870  0\n",
            "258   3.74400   0.79459  0.95851  1.00770  0\n",
            "589   0.93611   8.64130 -1.63510 -1.30430  0\n",
            "141   1.73170  -0.34765  4.19050 -0.99138  0\n",
            "...       ...       ...      ...      ... ..\n",
            "312   1.59020   2.29480  3.24030  0.18404  0\n",
            "491   3.06320  -3.33150  5.13050  0.82670  0\n",
            "1067 -0.82601   2.96110 -1.28640 -1.46470  1\n",
            "114   1.78190   6.91760 -1.27440 -1.57590  0\n",
            "253   5.28680   3.25700 -1.37210  1.16680  0\n",
            "\n",
            "[372 rows x 5 columns]\n"
          ],
          "name": "stdout"
        }
      ]
    },
    {
      "cell_type": "markdown",
      "metadata": {
        "id": "6mzUvzzo15yA"
      },
      "source": [
        "# Load Synthetic Data"
      ]
    },
    {
      "cell_type": "code",
      "metadata": {
        "colab": {
          "base_uri": "https://localhost:8080/"
        },
        "id": "lhmcMSFZ_dXj",
        "outputId": "de0b532e-26bd-417d-8589-1d3ecd9b2491"
      },
      "source": [
        "import numpy as np\n",
        "import pickle\n",
        "import pandas as pd\n",
        "from pandas import read_csv\n",
        "\n",
        "with open('/content/drive/MyDrive/Privacy/ACPATE_results/X_ACPATE_NEW_low_epoch.csv', 'rb') as f:\n",
        "    data = pickle.load(f)\n",
        "with open('/content/drive/MyDrive/Privacy/ACPATE_results/Y_ACPATE_NEW_low_epoch.csv', 'rb') as f:\n",
        "    labels = pickle.load(f)\n",
        "print(data.shape)\n",
        "print(labels.shape)\n",
        "\n",
        "X_ACPATE = data\n",
        "Y_ACPATE = labels"
      ],
      "execution_count": 3,
      "outputs": [
        {
          "output_type": "stream",
          "text": [
            "(1000, 4)\n",
            "(1000,)\n"
          ],
          "name": "stdout"
        }
      ]
    },
    {
      "cell_type": "markdown",
      "metadata": {
        "id": "FzLsQc5N2NlM"
      },
      "source": [
        "# Evaluation Metrics"
      ]
    },
    {
      "cell_type": "code",
      "metadata": {
        "id": "0tfbpuCH_5Iv"
      },
      "source": [
        "from keras.models import Sequential\n",
        "from keras.layers import Dense\n",
        "from keras.layers import Dropout\n",
        "from keras import backend as K\n",
        "from sklearn.metrics import roc_auc_score\n",
        "from sklearn.metrics import precision_recall_curve\n",
        "import tensorflow as tf\n",
        "\n",
        "def recall_m(y_true, y_pred):\n",
        "    true_positives = K.sum(K.round(K.clip(y_true * y_pred, 0, 1)))\n",
        "    possible_positives = K.sum(K.round(K.clip(y_true, 0, 1)))\n",
        "    recall = true_positives / (possible_positives + K.epsilon())\n",
        "    return recall\n",
        "\n",
        "def precision_m(y_true, y_pred):\n",
        "    true_positives = K.sum(K.round(K.clip(y_true * y_pred, 0, 1)))\n",
        "    predicted_positives = K.sum(K.round(K.clip(y_pred, 0, 1)))\n",
        "    precision = true_positives / (predicted_positives + K.epsilon())\n",
        "    return precision\n",
        "\n",
        "def f1_m(y_true, y_pred):\n",
        "    precision = precision_m(y_true, y_pred)\n",
        "    recall = recall_m(y_true, y_pred)\n",
        "    return 2*((precision*recall)/(precision+recall+K.epsilon()))\n",
        "\n",
        "model = Sequential([\n",
        "Dense(input_dim = 4, units = 2, activation = 'relu'),\n",
        "Dense(units = 4, activation = 'relu'),\n",
        "# Dropout(0.2),\n",
        "# Dense(units = 20, activation = 'relu'),\n",
        "Dense(units = 10, activation = 'relu'),\n",
        "Dense(units =1, activation = 'sigmoid'),])\n"
      ],
      "execution_count": 11,
      "outputs": []
    },
    {
      "cell_type": "markdown",
      "metadata": {
        "id": "Ic2bGlPG2Qwv"
      },
      "source": [
        "# Evaluate Private Data Generation Using a Neural Network"
      ]
    },
    {
      "cell_type": "code",
      "metadata": {
        "colab": {
          "base_uri": "https://localhost:8080/"
        },
        "id": "6JIzOOh8_fmM",
        "outputId": "d4785da3-913c-4bcb-9927-8fefbbcf29e0"
      },
      "source": [
        "# evaluate the model\n",
        "model.compile(optimizer = 'adam', loss = 'binary_crossentropy', metrics = ['accuracy', f1_m, precision_m, recall_m])\n",
        "model.fit(X_ACPATE, Y_ACPATE, batch_size = 20, epochs =100)\n",
        "loss, accuracy, f1_score, precision, recall = model.evaluate(X_test, y_test, verbose=0)\n",
        "#pred = model.predict(X_test)\n",
        "\n",
        "print(loss, accuracy, f1_score, precision, recall)"
      ],
      "execution_count": 13,
      "outputs": [
        {
          "output_type": "stream",
          "text": [
            "Epoch 1/100\n",
            "50/50 [==============================] - 1s 837us/step - loss: 0.3149 - accuracy: 0.9410 - f1_m: 0.9309 - precision_m: 0.9207 - recall_m: 0.9473\n",
            "Epoch 2/100\n",
            "50/50 [==============================] - 0s 837us/step - loss: 0.2750 - accuracy: 0.9477 - f1_m: 0.9393 - precision_m: 0.9273 - recall_m: 0.9600\n",
            "Epoch 3/100\n",
            "50/50 [==============================] - 0s 861us/step - loss: 0.2349 - accuracy: 0.9549 - f1_m: 0.9439 - precision_m: 0.9186 - recall_m: 0.9778\n",
            "Epoch 4/100\n",
            "50/50 [==============================] - 0s 963us/step - loss: 0.2133 - accuracy: 0.9584 - f1_m: 0.9535 - precision_m: 0.9448 - recall_m: 0.9658\n",
            "Epoch 5/100\n",
            "50/50 [==============================] - 0s 839us/step - loss: 0.2124 - accuracy: 0.9428 - f1_m: 0.9406 - precision_m: 0.9313 - recall_m: 0.9576\n",
            "Epoch 6/100\n",
            "50/50 [==============================] - 0s 930us/step - loss: 0.1696 - accuracy: 0.9593 - f1_m: 0.9553 - precision_m: 0.9309 - recall_m: 0.9853\n",
            "Epoch 7/100\n",
            "50/50 [==============================] - 0s 1ms/step - loss: 0.1709 - accuracy: 0.9583 - f1_m: 0.9539 - precision_m: 0.9375 - recall_m: 0.9764\n",
            "Epoch 8/100\n",
            "50/50 [==============================] - 0s 963us/step - loss: 0.1430 - accuracy: 0.9666 - f1_m: 0.9621 - precision_m: 0.9547 - recall_m: 0.9744\n",
            "Epoch 9/100\n",
            "50/50 [==============================] - 0s 851us/step - loss: 0.1405 - accuracy: 0.9674 - f1_m: 0.9616 - precision_m: 0.9405 - recall_m: 0.9897\n",
            "Epoch 10/100\n",
            "50/50 [==============================] - 0s 898us/step - loss: 0.1611 - accuracy: 0.9591 - f1_m: 0.9531 - precision_m: 0.9311 - recall_m: 0.9792\n",
            "Epoch 11/100\n",
            "50/50 [==============================] - 0s 917us/step - loss: 0.1423 - accuracy: 0.9621 - f1_m: 0.9585 - precision_m: 0.9481 - recall_m: 0.9721\n",
            "Epoch 12/100\n",
            "50/50 [==============================] - 0s 940us/step - loss: 0.1374 - accuracy: 0.9641 - f1_m: 0.9613 - precision_m: 0.9478 - recall_m: 0.9783\n",
            "Epoch 13/100\n",
            "50/50 [==============================] - 0s 870us/step - loss: 0.1422 - accuracy: 0.9570 - f1_m: 0.9525 - precision_m: 0.9314 - recall_m: 0.9785\n",
            "Epoch 14/100\n",
            "50/50 [==============================] - 0s 948us/step - loss: 0.1222 - accuracy: 0.9622 - f1_m: 0.9401 - precision_m: 0.9167 - recall_m: 0.9681\n",
            "Epoch 15/100\n",
            "50/50 [==============================] - 0s 830us/step - loss: 0.1016 - accuracy: 0.9720 - f1_m: 0.9683 - precision_m: 0.9480 - recall_m: 0.9929\n",
            "Epoch 16/100\n",
            "50/50 [==============================] - 0s 925us/step - loss: 0.1008 - accuracy: 0.9747 - f1_m: 0.9701 - precision_m: 0.9558 - recall_m: 0.9870\n",
            "Epoch 17/100\n",
            "50/50 [==============================] - 0s 866us/step - loss: 0.1161 - accuracy: 0.9634 - f1_m: 0.9589 - precision_m: 0.9437 - recall_m: 0.9801\n",
            "Epoch 18/100\n",
            "50/50 [==============================] - 0s 774us/step - loss: 0.1497 - accuracy: 0.9579 - f1_m: 0.9529 - precision_m: 0.9415 - recall_m: 0.9727\n",
            "Epoch 19/100\n",
            "50/50 [==============================] - 0s 851us/step - loss: 0.1163 - accuracy: 0.9653 - f1_m: 0.9602 - precision_m: 0.9417 - recall_m: 0.9836\n",
            "Epoch 20/100\n",
            "50/50 [==============================] - 0s 876us/step - loss: 0.1012 - accuracy: 0.9701 - f1_m: 0.9659 - precision_m: 0.9521 - recall_m: 0.9833\n",
            "Epoch 21/100\n",
            "50/50 [==============================] - 0s 842us/step - loss: 0.1143 - accuracy: 0.9684 - f1_m: 0.9649 - precision_m: 0.9457 - recall_m: 0.9877\n",
            "Epoch 22/100\n",
            "50/50 [==============================] - 0s 828us/step - loss: 0.1134 - accuracy: 0.9654 - f1_m: 0.9568 - precision_m: 0.9447 - recall_m: 0.9737\n",
            "Epoch 23/100\n",
            "50/50 [==============================] - 0s 885us/step - loss: 0.1240 - accuracy: 0.9616 - f1_m: 0.9594 - precision_m: 0.9422 - recall_m: 0.9813\n",
            "Epoch 24/100\n",
            "50/50 [==============================] - 0s 854us/step - loss: 0.1137 - accuracy: 0.9677 - f1_m: 0.9651 - precision_m: 0.9445 - recall_m: 0.9903\n",
            "Epoch 25/100\n",
            "50/50 [==============================] - 0s 949us/step - loss: 0.0910 - accuracy: 0.9737 - f1_m: 0.9712 - precision_m: 0.9553 - recall_m: 0.9899\n",
            "Epoch 26/100\n",
            "50/50 [==============================] - 0s 1ms/step - loss: 0.1010 - accuracy: 0.9664 - f1_m: 0.9608 - precision_m: 0.9386 - recall_m: 0.9901\n",
            "Epoch 27/100\n",
            "50/50 [==============================] - 0s 891us/step - loss: 0.1124 - accuracy: 0.9552 - f1_m: 0.9372 - precision_m: 0.9076 - recall_m: 0.9747\n",
            "Epoch 28/100\n",
            "50/50 [==============================] - 0s 944us/step - loss: 0.0902 - accuracy: 0.9694 - f1_m: 0.9605 - precision_m: 0.9400 - recall_m: 0.9858\n",
            "Epoch 29/100\n",
            "50/50 [==============================] - 0s 878us/step - loss: 0.1051 - accuracy: 0.9732 - f1_m: 0.9702 - precision_m: 0.9571 - recall_m: 0.9865\n",
            "Epoch 30/100\n",
            "50/50 [==============================] - 0s 867us/step - loss: 0.1117 - accuracy: 0.9736 - f1_m: 0.9678 - precision_m: 0.9593 - recall_m: 0.9808\n",
            "Epoch 31/100\n",
            "50/50 [==============================] - 0s 839us/step - loss: 0.0958 - accuracy: 0.9694 - f1_m: 0.9679 - precision_m: 0.9493 - recall_m: 0.9901\n",
            "Epoch 32/100\n",
            "50/50 [==============================] - 0s 931us/step - loss: 0.1065 - accuracy: 0.9737 - f1_m: 0.9720 - precision_m: 0.9647 - recall_m: 0.9823\n",
            "Epoch 33/100\n",
            "50/50 [==============================] - 0s 820us/step - loss: 0.0850 - accuracy: 0.9774 - f1_m: 0.9754 - precision_m: 0.9613 - recall_m: 0.9921\n",
            "Epoch 34/100\n",
            "50/50 [==============================] - 0s 878us/step - loss: 0.0803 - accuracy: 0.9748 - f1_m: 0.9738 - precision_m: 0.9653 - recall_m: 0.9847\n",
            "Epoch 35/100\n",
            "50/50 [==============================] - 0s 868us/step - loss: 0.0824 - accuracy: 0.9805 - f1_m: 0.9764 - precision_m: 0.9729 - recall_m: 0.9840\n",
            "Epoch 36/100\n",
            "50/50 [==============================] - 0s 1ms/step - loss: 0.0779 - accuracy: 0.9782 - f1_m: 0.9744 - precision_m: 0.9580 - recall_m: 0.9932\n",
            "Epoch 37/100\n",
            "50/50 [==============================] - 0s 1ms/step - loss: 0.0792 - accuracy: 0.9749 - f1_m: 0.9716 - precision_m: 0.9612 - recall_m: 0.9870\n",
            "Epoch 38/100\n",
            "50/50 [==============================] - 0s 902us/step - loss: 0.1053 - accuracy: 0.9741 - f1_m: 0.9690 - precision_m: 0.9518 - recall_m: 0.9900\n",
            "Epoch 39/100\n",
            "50/50 [==============================] - 0s 893us/step - loss: 0.1088 - accuracy: 0.9714 - f1_m: 0.9707 - precision_m: 0.9577 - recall_m: 0.9869\n",
            "Epoch 40/100\n",
            "50/50 [==============================] - 0s 858us/step - loss: 0.0819 - accuracy: 0.9789 - f1_m: 0.9756 - precision_m: 0.9666 - recall_m: 0.9875\n",
            "Epoch 41/100\n",
            "50/50 [==============================] - 0s 903us/step - loss: 0.0890 - accuracy: 0.9712 - f1_m: 0.9655 - precision_m: 0.9422 - recall_m: 0.9935\n",
            "Epoch 42/100\n",
            "50/50 [==============================] - 0s 803us/step - loss: 0.0835 - accuracy: 0.9735 - f1_m: 0.9718 - precision_m: 0.9528 - recall_m: 0.9940\n",
            "Epoch 43/100\n",
            "50/50 [==============================] - 0s 852us/step - loss: 0.0880 - accuracy: 0.9760 - f1_m: 0.9733 - precision_m: 0.9562 - recall_m: 0.9939\n",
            "Epoch 44/100\n",
            "50/50 [==============================] - 0s 867us/step - loss: 0.0860 - accuracy: 0.9697 - f1_m: 0.9662 - precision_m: 0.9491 - recall_m: 0.9882\n",
            "Epoch 45/100\n",
            "50/50 [==============================] - 0s 879us/step - loss: 0.1011 - accuracy: 0.9686 - f1_m: 0.9654 - precision_m: 0.9578 - recall_m: 0.9774\n",
            "Epoch 46/100\n",
            "50/50 [==============================] - 0s 802us/step - loss: 0.0827 - accuracy: 0.9806 - f1_m: 0.9751 - precision_m: 0.9690 - recall_m: 0.9838\n",
            "Epoch 47/100\n",
            "50/50 [==============================] - 0s 987us/step - loss: 0.0863 - accuracy: 0.9737 - f1_m: 0.9621 - precision_m: 0.9486 - recall_m: 0.9794\n",
            "Epoch 48/100\n",
            "50/50 [==============================] - 0s 971us/step - loss: 0.0873 - accuracy: 0.9767 - f1_m: 0.9700 - precision_m: 0.9574 - recall_m: 0.9872\n",
            "Epoch 49/100\n",
            "50/50 [==============================] - 0s 851us/step - loss: 0.0590 - accuracy: 0.9842 - f1_m: 0.9825 - precision_m: 0.9706 - recall_m: 0.9966\n",
            "Epoch 50/100\n",
            "50/50 [==============================] - 0s 836us/step - loss: 0.0871 - accuracy: 0.9795 - f1_m: 0.9770 - precision_m: 0.9699 - recall_m: 0.9871\n",
            "Epoch 51/100\n",
            "50/50 [==============================] - 0s 938us/step - loss: 0.0972 - accuracy: 0.9741 - f1_m: 0.9712 - precision_m: 0.9638 - recall_m: 0.9819\n",
            "Epoch 52/100\n",
            "50/50 [==============================] - 0s 905us/step - loss: 0.0979 - accuracy: 0.9730 - f1_m: 0.9694 - precision_m: 0.9530 - recall_m: 0.9906\n",
            "Epoch 53/100\n",
            "50/50 [==============================] - 0s 792us/step - loss: 0.0940 - accuracy: 0.9714 - f1_m: 0.9681 - precision_m: 0.9550 - recall_m: 0.9855\n",
            "Epoch 54/100\n",
            "50/50 [==============================] - 0s 794us/step - loss: 0.0948 - accuracy: 0.9739 - f1_m: 0.9690 - precision_m: 0.9639 - recall_m: 0.9763\n",
            "Epoch 55/100\n",
            "50/50 [==============================] - 0s 885us/step - loss: 0.1042 - accuracy: 0.9653 - f1_m: 0.9620 - precision_m: 0.9400 - recall_m: 0.9898\n",
            "Epoch 56/100\n",
            "50/50 [==============================] - 0s 902us/step - loss: 0.0654 - accuracy: 0.9814 - f1_m: 0.9781 - precision_m: 0.9658 - recall_m: 0.9927\n",
            "Epoch 57/100\n",
            "50/50 [==============================] - 0s 812us/step - loss: 0.1138 - accuracy: 0.9711 - f1_m: 0.9656 - precision_m: 0.9606 - recall_m: 0.9766\n",
            "Epoch 58/100\n",
            "50/50 [==============================] - 0s 866us/step - loss: 0.0820 - accuracy: 0.9692 - f1_m: 0.9638 - precision_m: 0.9485 - recall_m: 0.9852\n",
            "Epoch 59/100\n",
            "50/50 [==============================] - 0s 894us/step - loss: 0.0755 - accuracy: 0.9761 - f1_m: 0.9719 - precision_m: 0.9560 - recall_m: 0.9917\n",
            "Epoch 60/100\n",
            "50/50 [==============================] - 0s 908us/step - loss: 0.0852 - accuracy: 0.9749 - f1_m: 0.9696 - precision_m: 0.9565 - recall_m: 0.9866\n",
            "Epoch 61/100\n",
            "50/50 [==============================] - 0s 867us/step - loss: 0.0870 - accuracy: 0.9751 - f1_m: 0.9731 - precision_m: 0.9569 - recall_m: 0.9925\n",
            "Epoch 62/100\n",
            "50/50 [==============================] - 0s 991us/step - loss: 0.1090 - accuracy: 0.9668 - f1_m: 0.9632 - precision_m: 0.9467 - recall_m: 0.9853\n",
            "Epoch 63/100\n",
            "50/50 [==============================] - 0s 805us/step - loss: 0.0864 - accuracy: 0.9762 - f1_m: 0.9737 - precision_m: 0.9570 - recall_m: 0.9930\n",
            "Epoch 64/100\n",
            "50/50 [==============================] - 0s 897us/step - loss: 0.0953 - accuracy: 0.9784 - f1_m: 0.9722 - precision_m: 0.9606 - recall_m: 0.9881\n",
            "Epoch 65/100\n",
            "50/50 [==============================] - 0s 824us/step - loss: 0.0660 - accuracy: 0.9866 - f1_m: 0.9826 - precision_m: 0.9724 - recall_m: 0.9953\n",
            "Epoch 66/100\n",
            "50/50 [==============================] - 0s 802us/step - loss: 0.0842 - accuracy: 0.9761 - f1_m: 0.9735 - precision_m: 0.9594 - recall_m: 0.9904\n",
            "Epoch 67/100\n",
            "50/50 [==============================] - 0s 902us/step - loss: 0.0862 - accuracy: 0.9742 - f1_m: 0.9726 - precision_m: 0.9637 - recall_m: 0.9855\n",
            "Epoch 68/100\n",
            "50/50 [==============================] - 0s 852us/step - loss: 0.0927 - accuracy: 0.9753 - f1_m: 0.9687 - precision_m: 0.9556 - recall_m: 0.9852\n",
            "Epoch 69/100\n",
            "50/50 [==============================] - 0s 845us/step - loss: 0.0859 - accuracy: 0.9772 - f1_m: 0.9748 - precision_m: 0.9627 - recall_m: 0.9900\n",
            "Epoch 70/100\n",
            "50/50 [==============================] - 0s 821us/step - loss: 0.0904 - accuracy: 0.9763 - f1_m: 0.9725 - precision_m: 0.9619 - recall_m: 0.9868\n",
            "Epoch 71/100\n",
            "50/50 [==============================] - 0s 1ms/step - loss: 0.0663 - accuracy: 0.9818 - f1_m: 0.9805 - precision_m: 0.9685 - recall_m: 0.9947\n",
            "Epoch 72/100\n",
            "50/50 [==============================] - 0s 887us/step - loss: 0.0902 - accuracy: 0.9723 - f1_m: 0.9621 - precision_m: 0.9526 - recall_m: 0.9784\n",
            "Epoch 73/100\n",
            "50/50 [==============================] - 0s 867us/step - loss: 0.0903 - accuracy: 0.9762 - f1_m: 0.9722 - precision_m: 0.9551 - recall_m: 0.9939\n",
            "Epoch 74/100\n",
            "50/50 [==============================] - 0s 878us/step - loss: 0.0850 - accuracy: 0.9756 - f1_m: 0.9742 - precision_m: 0.9689 - recall_m: 0.9819\n",
            "Epoch 75/100\n",
            "50/50 [==============================] - 0s 813us/step - loss: 0.0823 - accuracy: 0.9735 - f1_m: 0.9735 - precision_m: 0.9629 - recall_m: 0.9871\n",
            "Epoch 76/100\n",
            "50/50 [==============================] - 0s 882us/step - loss: 0.0878 - accuracy: 0.9717 - f1_m: 0.9671 - precision_m: 0.9473 - recall_m: 0.9906\n",
            "Epoch 77/100\n",
            "50/50 [==============================] - 0s 1ms/step - loss: 0.1290 - accuracy: 0.9599 - f1_m: 0.9531 - precision_m: 0.9240 - recall_m: 0.9916\n",
            "Epoch 78/100\n",
            "50/50 [==============================] - 0s 806us/step - loss: 0.0869 - accuracy: 0.9717 - f1_m: 0.9668 - precision_m: 0.9440 - recall_m: 0.9942\n",
            "Epoch 79/100\n",
            "50/50 [==============================] - 0s 881us/step - loss: 0.1046 - accuracy: 0.9696 - f1_m: 0.9585 - precision_m: 0.9434 - recall_m: 0.9792\n",
            "Epoch 80/100\n",
            "50/50 [==============================] - 0s 891us/step - loss: 0.0686 - accuracy: 0.9823 - f1_m: 0.9795 - precision_m: 0.9681 - recall_m: 0.9932\n",
            "Epoch 81/100\n",
            "50/50 [==============================] - 0s 875us/step - loss: 0.0875 - accuracy: 0.9732 - f1_m: 0.9693 - precision_m: 0.9549 - recall_m: 0.9875\n",
            "Epoch 82/100\n",
            "50/50 [==============================] - 0s 882us/step - loss: 0.1022 - accuracy: 0.9683 - f1_m: 0.9617 - precision_m: 0.9394 - recall_m: 0.9894\n",
            "Epoch 83/100\n",
            "50/50 [==============================] - 0s 1ms/step - loss: 0.0990 - accuracy: 0.9781 - f1_m: 0.9744 - precision_m: 0.9732 - recall_m: 0.9792\n",
            "Epoch 84/100\n",
            "50/50 [==============================] - 0s 999us/step - loss: 0.1018 - accuracy: 0.9648 - f1_m: 0.9396 - precision_m: 0.9126 - recall_m: 0.9826\n",
            "Epoch 85/100\n",
            "50/50 [==============================] - 0s 925us/step - loss: 0.0697 - accuracy: 0.9848 - f1_m: 0.9813 - precision_m: 0.9683 - recall_m: 0.9968\n",
            "Epoch 86/100\n",
            "50/50 [==============================] - 0s 859us/step - loss: 0.0854 - accuracy: 0.9760 - f1_m: 0.9723 - precision_m: 0.9594 - recall_m: 0.9890\n",
            "Epoch 87/100\n",
            "50/50 [==============================] - 0s 862us/step - loss: 0.0921 - accuracy: 0.9693 - f1_m: 0.9646 - precision_m: 0.9423 - recall_m: 0.9946\n",
            "Epoch 88/100\n",
            "50/50 [==============================] - 0s 949us/step - loss: 0.0787 - accuracy: 0.9772 - f1_m: 0.9764 - precision_m: 0.9632 - recall_m: 0.9923\n",
            "Epoch 89/100\n",
            "50/50 [==============================] - 0s 938us/step - loss: 0.0805 - accuracy: 0.9702 - f1_m: 0.9664 - precision_m: 0.9536 - recall_m: 0.9811\n",
            "Epoch 90/100\n",
            "50/50 [==============================] - 0s 1ms/step - loss: 0.1285 - accuracy: 0.9652 - f1_m: 0.9617 - precision_m: 0.9469 - recall_m: 0.9837\n",
            "Epoch 91/100\n",
            "50/50 [==============================] - 0s 853us/step - loss: 0.0760 - accuracy: 0.9812 - f1_m: 0.9807 - precision_m: 0.9765 - recall_m: 0.9871\n",
            "Epoch 92/100\n",
            "50/50 [==============================] - 0s 828us/step - loss: 0.0721 - accuracy: 0.9793 - f1_m: 0.9772 - precision_m: 0.9738 - recall_m: 0.9847\n",
            "Epoch 93/100\n",
            "50/50 [==============================] - 0s 828us/step - loss: 0.0798 - accuracy: 0.9726 - f1_m: 0.9712 - precision_m: 0.9570 - recall_m: 0.9880\n",
            "Epoch 94/100\n",
            "50/50 [==============================] - 0s 869us/step - loss: 0.0736 - accuracy: 0.9802 - f1_m: 0.9776 - precision_m: 0.9750 - recall_m: 0.9836\n",
            "Epoch 95/100\n",
            "50/50 [==============================] - 0s 832us/step - loss: 0.0792 - accuracy: 0.9769 - f1_m: 0.9733 - precision_m: 0.9591 - recall_m: 0.9906\n",
            "Epoch 96/100\n",
            "50/50 [==============================] - 0s 844us/step - loss: 0.0605 - accuracy: 0.9843 - f1_m: 0.9817 - precision_m: 0.9705 - recall_m: 0.9957\n",
            "Epoch 97/100\n",
            "50/50 [==============================] - 0s 866us/step - loss: 0.1077 - accuracy: 0.9652 - f1_m: 0.9596 - precision_m: 0.9504 - recall_m: 0.9730\n",
            "Epoch 98/100\n",
            "50/50 [==============================] - 0s 988us/step - loss: 0.0774 - accuracy: 0.9761 - f1_m: 0.9760 - precision_m: 0.9606 - recall_m: 0.9943\n",
            "Epoch 99/100\n",
            "50/50 [==============================] - 0s 1ms/step - loss: 0.0834 - accuracy: 0.9792 - f1_m: 0.9755 - precision_m: 0.9644 - recall_m: 0.9898\n",
            "Epoch 100/100\n",
            "50/50 [==============================] - 0s 810us/step - loss: 0.0791 - accuracy: 0.9781 - f1_m: 0.9751 - precision_m: 0.9650 - recall_m: 0.9881\n",
            "(array([], dtype=int64), array([], dtype=int64))\n",
            "[0.85740476 0.24649388 0.82424836 0.43516952]\n",
            "[0.15683082 0.00109917 0.99920772 0.79122083]\n",
            "[0. 0. 0. 0. 0. 1. 0. 0. 1. 0. 0. 1. 0. 0. 1. 1. 0. 0. 0. 1. 0. 0. 0. 1.\n",
            " 1. 0. 1. 0. 1. 0. 0. 0. 1. 1. 0. 0. 1. 0. 1. 0. 0. 0. 0. 0. 1. 1. 0. 1.\n",
            " 1. 1. 0. 0. 0. 1. 1. 0. 0. 0. 1. 0. 1. 0. 0. 1. 1. 0. 1. 1. 0. 1. 0. 0.\n",
            " 0. 0. 0. 1. 1. 1. 0. 1. 1. 0. 0. 0. 1. 1. 1. 0. 1. 0. 1. 1. 1. 1. 1. 0.\n",
            " 0. 0. 1. 0. 0. 1. 0. 1. 0. 1. 0. 0. 1. 0. 1. 0. 0. 0. 0. 0. 1. 1. 0. 0.\n",
            " 0. 1. 0. 0. 1. 0. 1. 0. 1. 1. 0. 0. 1. 0. 1. 1. 0. 1. 0. 1. 1. 0. 1. 0.\n",
            " 0. 1. 0. 0. 0. 1. 1. 1. 1. 1. 1. 1. 0. 0. 1. 1. 0. 1. 0. 0. 1. 0. 1. 1.\n",
            " 1. 0. 0. 1. 0. 1. 0. 1. 1. 0. 1. 0. 0. 1. 0. 0. 1. 1. 1. 0. 0. 1. 1. 0.\n",
            " 0. 0. 1. 0. 1. 1. 0. 0. 0. 0. 0. 0. 1. 0. 1. 1. 1. 0. 0. 0. 1. 0. 0. 0.\n",
            " 0. 0. 0. 1. 0. 1. 1. 0. 1. 1. 0. 0. 1. 1. 1. 0. 1. 0. 1. 0. 0. 1. 0. 0.\n",
            " 1. 0. 1. 1. 0. 1. 1. 1. 1. 1. 0. 0. 0. 1. 1. 0. 0. 0. 1. 1. 0. 0. 1. 0.\n",
            " 0. 1. 0. 1. 1. 1. 1. 1. 0. 0. 0. 0. 0. 0. 1. 1. 0. 1. 0. 1. 0. 0. 0. 0.\n",
            " 1. 0. 0. 1. 1. 1. 0. 1. 0. 0. 1. 1. 0. 0. 0. 1. 0. 0. 0. 0. 1. 0. 1. 0.\n",
            " 1. 1. 0. 0. 0. 0. 1. 0. 1. 1. 1. 0. 0. 0. 1. 1. 1. 1. 1. 1. 1. 0. 0. 0.\n",
            " 0. 0. 1. 0. 0. 0. 1. 1. 1. 0. 1. 1. 1. 1. 0. 0. 1. 1. 0. 1. 0. 1. 1. 1.\n",
            " 0. 0. 1. 1. 0. 1. 0. 0. 0. 1. 0. 0.]\n",
            "1.9746485948562622 0.8387096524238586 0.7940645813941956 0.930858314037323 0.7017676830291748\n"
          ],
          "name": "stdout"
        }
      ]
    }
  ]
}